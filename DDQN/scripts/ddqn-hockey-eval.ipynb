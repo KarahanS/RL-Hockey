{
 "cells": [
  {
   "cell_type": "markdown",
   "metadata": {},
   "source": [
    "## DDQN in Hockey Enviroment - Evaluation\n",
    "\n",
    "Evaluate a trained DDQN against various environments\n",
    "\n",
    "Base DQN implementation adapted from HW7"
   ]
  },
  {
   "cell_type": "code",
   "execution_count": 1,
   "metadata": {},
   "outputs": [
    {
     "name": "stderr",
     "output_type": "stream",
     "text": [
      "/home/kivanc/miniconda3/envs/rl/lib/python3.11/site-packages/gymnasium/envs/registration.py:642: UserWarning: \u001b[33mWARN: Overriding environment Hockey-v0 already in registry.\u001b[0m\n",
      "  logger.warn(f\"Overriding environment {new_spec.id} already in registry.\")\n",
      "/home/kivanc/miniconda3/envs/rl/lib/python3.11/site-packages/gymnasium/envs/registration.py:642: UserWarning: \u001b[33mWARN: Overriding environment Hockey-One-v0 already in registry.\u001b[0m\n",
      "  logger.warn(f\"Overriding environment {new_spec.id} already in registry.\")\n",
      "/home/kivanc/miniconda3/envs/rl/lib/python3.11/site-packages/gymnasium/envs/registration.py:642: UserWarning: \u001b[33mWARN: Overriding environment Hockey-v0 already in registry.\u001b[0m\n",
      "  logger.warn(f\"Overriding environment {new_spec.id} already in registry.\")\n",
      "/home/kivanc/miniconda3/envs/rl/lib/python3.11/site-packages/gymnasium/envs/registration.py:642: UserWarning: \u001b[33mWARN: Overriding environment Hockey-One-v0 already in registry.\u001b[0m\n",
      "  logger.warn(f\"Overriding environment {new_spec.id} already in registry.\")\n",
      "/home/kivanc/miniconda3/envs/rl/lib/python3.11/site-packages/gymnasium/envs/registration.py:642: UserWarning: \u001b[33mWARN: Overriding environment Hockey-Better-v0 already in registry.\u001b[0m\n",
      "  logger.warn(f\"Overriding environment {new_spec.id} already in registry.\")\n",
      "/home/kivanc/miniconda3/envs/rl/lib/python3.11/site-packages/gymnasium/envs/registration.py:642: UserWarning: \u001b[33mWARN: Overriding environment Hockey-Advanced-v0 already in registry.\u001b[0m\n",
      "  logger.warn(f\"Overriding environment {new_spec.id} already in registry.\")\n"
     ]
    },
    {
     "data": {
      "text/plain": [
       "<module 'DDQN.DDQN' from '/home/kivanc/ders/RL/project/RL-Hockey/DDQN/DDQN.py'>"
      ]
     },
     "execution_count": 1,
     "metadata": {},
     "output_type": "execute_result"
    }
   ],
   "source": [
    "import copy\n",
    "import os\n",
    "import sys\n",
    "from importlib import reload\n",
    "\n",
    "import numpy as np\n",
    "from tqdm.notebook import tqdm\n",
    "\n",
    "# Adding the parent directory to the path to enable importing\n",
    "root_dir = os.path.dirname(os.path.abspath(\"../\"))\n",
    "if root_dir not in sys.path:\n",
    "    sys.path.append(root_dir)\n",
    "\n",
    "import DDQN.DDQN as ddqn\n",
    "from DDQN.dqn_action_space import CustomActionSpace\n",
    "from DDQN.DQN import TargetDQNAgent, DoubleDQNAgent\n",
    "from DDQN.DDQN import DuelingDQNAgent, DoubleDuelingDQNAgent\n",
    "from DDQN.dqn_evaluation import compare_agents, display_stats\n",
    "from DDQN.dqn_trainer import RandomWeaknessBasicOpponent, SACOpponent\n",
    "import hockey.hockey_env as h_env\n",
    "\n",
    "reload(h_env)\n",
    "reload(ddqn)"
   ]
  },
  {
   "cell_type": "code",
   "execution_count": 2,
   "metadata": {},
   "outputs": [],
   "source": [
    "def running_mean(x, N):\n",
    "    cumsum = np.cumsum(np.insert(x, 0, 0)) \n",
    "    return (cumsum[N:] - cumsum[:-N]) / float(N)"
   ]
  },
  {
   "cell_type": "markdown",
   "metadata": {},
   "source": [
    "## Environment & Agent Initialization"
   ]
  },
  {
   "cell_type": "code",
   "execution_count": 18,
   "metadata": {},
   "outputs": [],
   "source": [
    "env = h_env.HockeyEnv(mode=h_env.Mode.NORMAL)\n",
    "env.reset()\n",
    "act_space = CustomActionSpace()"
   ]
  },
  {
   "cell_type": "code",
   "execution_count": 23,
   "metadata": {},
   "outputs": [],
   "source": [
    "agent_player = DoubleDuelingDQNAgent(\n",
    "    env.observation_space,\n",
    "    act_space,\n",
    "    hidden_sizes=[512],\n",
    "    hidden_sizes_A=[512, 512],\n",
    "    hidden_sizes_V=[512, 512],\n",
    "    use_torch=True\n",
    ")\n",
    "\n",
    "if isinstance(agent_player.action_space, CustomActionSpace):\n",
    "    discrete_to_continuous = CustomActionSpace.discrete_to_continuous\n",
    "else:\n",
    "    discrete_to_continuous = env.discrete_to_continous_action"
   ]
  },
  {
   "cell_type": "code",
   "execution_count": 12,
   "metadata": {},
   "outputs": [],
   "source": [
    "# agent_player = DoubleDQNAgent(\n",
    "#     env.observation_space,\n",
    "#     env.discrete_action_space,\n",
    "#     hidden_sizes=[2048],\n",
    "#     use_torch=False\n",
    "# )"
   ]
  },
  {
   "cell_type": "code",
   "execution_count": 24,
   "metadata": {},
   "outputs": [],
   "source": [
    "STATE_PATH = \"./models/doub-duel-dqn-per-4it-custactspc/Q_model_best_strong_ep58800_wr0.97.ckpt\""
   ]
  },
  {
   "cell_type": "code",
   "execution_count": 25,
   "metadata": {},
   "outputs": [
    {
     "name": "stdout",
     "output_type": "stream",
     "text": [
      "Loaded configuration from checkpoint.\n",
      "[SACAgent] 'buffer_state' missing or buffer has no set_state().\n"
     ]
    }
   ],
   "source": [
    "agent_player.load_state(STATE_PATH)\n",
    "\n",
    "agent_opp_weak = h_env.BasicOpponent(weak=True)\n",
    "agent_opp_strong = h_env.BasicOpponent(weak=False)\n",
    "agent_opp_random = RandomWeaknessBasicOpponent(0.2)\n",
    "#agent_opp_self = copy.deepcopy(agent_player)\n",
    "# FIXME: This is a hack to avoid copying, see FIXME in dqn_trainer.py\n",
    "agent_opp_self = DoubleDuelingDQNAgent(\n",
    "    env.observation_space,\n",
    "    agent_player.action_space,\n",
    "    hidden_sizes=[512],\n",
    "    hidden_sizes_A=[512, 512],\n",
    "    hidden_sizes_V=[512, 512],\n",
    "    use_torch=True\n",
    ")\n",
    "agent_opp_self.load_state(STATE_PATH)\n",
    "agent_opp_sac = SACOpponent(env=env, pth_dir=\"/home/kivanc/ders/RL/project/muhteshember-models/karahan-sac/champion2.pth\")"
   ]
  },
  {
   "cell_type": "markdown",
   "metadata": {},
   "source": [
    "## Evaluation"
   ]
  },
  {
   "cell_type": "markdown",
   "metadata": {},
   "source": [
    "### Winning Rates Against Opponents & Match Statistics"
   ]
  },
  {
   "cell_type": "code",
   "execution_count": 26,
   "metadata": {},
   "outputs": [
    {
     "data": {
      "application/vnd.jupyter.widget-view+json": {
       "model_id": "9a86b85533014ba48542e52ad03e72fa",
       "version_major": 2,
       "version_minor": 0
      },
      "text/plain": [
       "  0%|          | 0/1000 [00:00<?, ?it/s]"
      ]
     },
     "metadata": {},
     "output_type": "display_data"
    },
    {
     "data": {
      "application/vnd.jupyter.widget-view+json": {
       "model_id": "82bb378479c54ceaa1cb69e37ab58b9e",
       "version_major": 2,
       "version_minor": 0
      },
      "text/plain": [
       "  0%|          | 0/1000 [00:00<?, ?it/s]"
      ]
     },
     "metadata": {},
     "output_type": "display_data"
    },
    {
     "data": {
      "application/vnd.jupyter.widget-view+json": {
       "model_id": "9f91971341bf4c6d8f79a2f2da24a863",
       "version_major": 2,
       "version_minor": 0
      },
      "text/plain": [
       "  0%|          | 0/1000 [00:00<?, ?it/s]"
      ]
     },
     "metadata": {},
     "output_type": "display_data"
    },
    {
     "data": {
      "application/vnd.jupyter.widget-view+json": {
       "model_id": "2aff2967e2c94258933efb8e38c19408",
       "version_major": 2,
       "version_minor": 0
      },
      "text/plain": [
       "  0%|          | 0/1000 [00:00<?, ?it/s]"
      ]
     },
     "metadata": {},
     "output_type": "display_data"
    }
   ],
   "source": [
    "weak_opp_stats = compare_agents(\n",
    "    agent_player, agent_opp_weak, env, act_space, num_matches=1000, tqdm=tqdm\n",
    ")\n",
    "strong_opp_stats = compare_agents(\n",
    "    agent_player, agent_opp_strong, env, act_space, num_matches=1000, tqdm=tqdm\n",
    ")\n",
    "self_opp_stats = compare_agents(\n",
    "    agent_player, agent_opp_self, env, act_space, num_matches=1000, tqdm=tqdm\n",
    ")\n",
    "sac_stats = compare_agents(\n",
    "    agent_player, agent_opp_sac, env, act_space, num_matches=1000, tqdm=tqdm\n",
    ")"
   ]
  },
  {
   "cell_type": "code",
   "execution_count": 30,
   "metadata": {},
   "outputs": [
    {
     "name": "stdout",
     "output_type": "stream",
     "text": [
      "########################################\n",
      "Weak Opponent:\n",
      "Player Win Rate: 0.931\n",
      "Opponent Win Rate: 0.008\n",
      "Draw Rate: 0.061\n",
      "\n",
      "Win Status (1 for win, 0 for draw, -1 for loss):\n",
      "  Mean: 0.923\n",
      "  Std: 0.2950779558015136\n",
      "\n",
      "Returns:\n",
      "  Player: 8147.188055166428\n",
      "  Opponent: -12379.878966850789\n",
      "  Difference: 20527.067022017218\n",
      "\n",
      "########################################\n",
      "Strong Opponent:\n",
      "Player Win Rate: 0.962\n",
      "Opponent Win Rate: 0.013\n",
      "Draw Rate: 0.025\n",
      "\n",
      "Win Status (1 for win, 0 for draw, -1 for loss):\n",
      "  Mean: 0.949\n",
      "  Std: 0.2727618008446197\n",
      "\n",
      "Returns:\n",
      "  Player: 8097.551757563351\n",
      "  Opponent: -11890.65735833587\n",
      "  Difference: 19988.20911589922\n",
      "\n",
      "########################################\n",
      "Self Copied Opponent:\n",
      "Player Win Rate: 0.434\n",
      "Opponent Win Rate: 0.481\n",
      "Draw Rate: 0.085\n",
      "\n",
      "Win Status (1 for win, 0 for draw, -1 for loss):\n",
      "  Mean: -0.047\n",
      "  Std: 0.9554009629469712\n",
      "\n",
      "Returns:\n",
      "  Player: -2681.9665395363563\n",
      "  Opponent: -1669.5879489390627\n",
      "  Difference: 1012.3785905972936\n",
      "\n",
      "########################################\n",
      "SAC Opponent:\n",
      "Player Win Rate: 0.047\n",
      "Opponent Win Rate: 0.947\n",
      "Draw Rate: 0.006\n",
      "\n",
      "Win Status (1 for win, 0 for draw, -1 for loss):\n",
      "  Mean: -0.9\n",
      "  Std: 0.42895221179054427\n",
      "\n",
      "Returns:\n",
      "  Player: -10241.961286902942\n",
      "  Opponent: 8175.600506118699\n",
      "  Difference: 18417.56179302164\n"
     ]
    }
   ],
   "source": [
    "print(\"#\" * 40)\n",
    "display_stats(weak_opp_stats, opp_name=\"Weak\")\n",
    "\n",
    "print()\n",
    "print(\"#\" * 40)\n",
    "display_stats(strong_opp_stats, opp_name=\"Strong\")\n",
    "\n",
    "print()\n",
    "print(\"#\" * 40)\n",
    "display_stats(self_opp_stats, opp_name=\"Self Copied\")\n",
    "\n",
    "print()\n",
    "print(\"#\" * 40)\n",
    "display_stats(sac_stats, opp_name=\"SAC\")"
   ]
  },
  {
   "cell_type": "markdown",
   "metadata": {},
   "source": [
    "### Rendered Demonstration Against Copied Self"
   ]
  },
  {
   "cell_type": "code",
   "execution_count": 34,
   "metadata": {},
   "outputs": [
    {
     "name": "stdout",
     "output_type": "stream",
     "text": [
      "Episode done in 30 steps\n",
      "Winner: Player\n"
     ]
    }
   ],
   "source": [
    "obs_buffer = []\n",
    "reward_buffer = []\n",
    "obs, _ = env.reset()\n",
    "obs_opp = env.obs_agent_two()\n",
    "\n",
    "done = False\n",
    "trunc = False\n",
    "step = 0\n",
    "while not (done or trunc):\n",
    "    step += 1\n",
    "    env.render()\n",
    "\n",
    "    a1_discr = agent_player.act(obs)\n",
    "    a1 = discrete_to_continuous(a1_discr)\n",
    "    a2_discr = agent_opp_self.act(obs_opp)\n",
    "    a2 = discrete_to_continuous(a2_discr)\n",
    "\n",
    "    obs, r, done, trunc, info = env.step(np.hstack([a1, a2]))\n",
    "    obs_buffer.append(obs)\n",
    "    reward_buffer.append(r)\n",
    "\n",
    "    obs_opp = env.obs_agent_two()\n",
    "\n",
    "    if done or trunc:\n",
    "        print(f\"Episode done in {step} steps\")\n",
    "        winner = info[\"winner\"]\n",
    "        if winner == 0:\n",
    "            print(\"Draw\")\n",
    "        else:\n",
    "            print(f\"Winner: \" + (\"Player\" if winner == 1 else \"Opponent\"))\n",
    "        break"
   ]
  },
  {
   "cell_type": "markdown",
   "metadata": {},
   "source": [
    "### Rendered Demonstration Against Strong Basic Opponent"
   ]
  },
  {
   "cell_type": "code",
   "execution_count": 37,
   "metadata": {},
   "outputs": [
    {
     "name": "stdout",
     "output_type": "stream",
     "text": [
      "Episode done in 163 steps\n",
      "Winner: Player\n"
     ]
    }
   ],
   "source": [
    "obs_buffer = []\n",
    "reward_buffer = []\n",
    "obs, _ = env.reset()\n",
    "obs_opp = env.obs_agent_two()\n",
    "\n",
    "done = False\n",
    "trunc = False\n",
    "step = 0\n",
    "while not (done or trunc):\n",
    "    step += 1\n",
    "    env.render()\n",
    "\n",
    "    a1_discr = agent_player.act(obs)\n",
    "    a1 = discrete_to_continuous(a1_discr)\n",
    "    a2 = agent_opp_strong.act(obs_opp)\n",
    "\n",
    "    obs, r, done, trunc, info = env.step(np.hstack([a1, a2]))\n",
    "    obs_buffer.append(obs)\n",
    "    reward_buffer.append(r)\n",
    "\n",
    "    obs_opp = env.obs_agent_two()\n",
    "\n",
    "    if done or trunc:\n",
    "        print(f\"Episode done in {step} steps\")\n",
    "        winner = info[\"winner\"]\n",
    "        if winner == 0:\n",
    "            print(\"Draw\")\n",
    "        else:\n",
    "            print(f\"Winner: \" + (\"Player\" if winner == 1 else \"Opponent\"))\n",
    "        break"
   ]
  },
  {
   "cell_type": "markdown",
   "metadata": {},
   "source": [
    "### Rendered Demonstration Against SAC Opponent"
   ]
  },
  {
   "cell_type": "code",
   "execution_count": 51,
   "metadata": {},
   "outputs": [
    {
     "name": "stdout",
     "output_type": "stream",
     "text": [
      "Episode done in 66 steps\n",
      "Winner: Opponent\n"
     ]
    }
   ],
   "source": [
    "obs_buffer = []\n",
    "reward_buffer = []\n",
    "obs, _ = env.reset()\n",
    "obs_opp = env.obs_agent_two()\n",
    "\n",
    "done = False\n",
    "trunc = False\n",
    "step = 0\n",
    "while not (done or trunc):\n",
    "    step += 1\n",
    "    env.render()\n",
    "\n",
    "    a1_discr = agent_player.act(obs)\n",
    "    a1 = discrete_to_continuous(a1_discr)\n",
    "    a2 = agent_opp_sac.act(obs_opp)\n",
    "\n",
    "    obs, r, done, trunc, info = env.step(np.hstack([a1, a2]))\n",
    "    obs_buffer.append(obs)\n",
    "    reward_buffer.append(r)\n",
    "\n",
    "    obs_opp = env.obs_agent_two()\n",
    "\n",
    "    if done or trunc:\n",
    "        print(f\"Episode done in {step} steps\")\n",
    "        winner = info[\"winner\"]\n",
    "        if winner == 0:\n",
    "            print(\"Draw\")\n",
    "        else:\n",
    "            print(f\"Winner: \" + (\"Player\" if winner == 1 else \"Opponent\"))\n",
    "        break"
   ]
  },
  {
   "cell_type": "code",
   "execution_count": 52,
   "metadata": {},
   "outputs": [],
   "source": [
    "env.close()"
   ]
  }
 ],
 "metadata": {
  "kernelspec": {
   "display_name": "rl",
   "language": "python",
   "name": "python3"
  },
  "language_info": {
   "codemirror_mode": {
    "name": "ipython",
    "version": 3
   },
   "file_extension": ".py",
   "mimetype": "text/x-python",
   "name": "python",
   "nbconvert_exporter": "python",
   "pygments_lexer": "ipython3",
   "version": "3.11.11"
  }
 },
 "nbformat": 4,
 "nbformat_minor": 2
}
