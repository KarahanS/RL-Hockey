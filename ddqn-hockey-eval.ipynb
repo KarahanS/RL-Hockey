{
 "cells": [
  {
   "cell_type": "markdown",
   "metadata": {},
   "source": [
    "## DDQN in Hockey Enviroment - Evaluation\n",
    "\n",
    "Evaluate a trained DDQN against various environments\n",
    "\n",
    "Base DQN implementation adapted from HW7"
   ]
  },
  {
   "cell_type": "code",
   "execution_count": 19,
   "metadata": {},
   "outputs": [
    {
     "data": {
      "text/plain": [
       "<module 'DDQN.DDQN' from '/home/kivanc/ders/RL/project/RL-Hockey/DDQN/DDQN.py'>"
      ]
     },
     "execution_count": 19,
     "metadata": {},
     "output_type": "execute_result"
    }
   ],
   "source": [
    "from importlib import reload\n",
    "\n",
    "import numpy as np\n",
    "from tqdm.notebook import tqdm\n",
    "\n",
    "import DDQN.DDQN as ddqn\n",
    "from DDQN.DDQN import DDQNAgent\n",
    "from DDQN.evaluation import compare_agents, display_stats\n",
    "import hockey.hockey_env as h_env\n",
    "\n",
    "reload(h_env)\n",
    "reload(ddqn)"
   ]
  },
  {
   "cell_type": "code",
   "execution_count": 20,
   "metadata": {},
   "outputs": [],
   "source": [
    "def running_mean(x, N):\n",
    "    cumsum = np.cumsum(np.insert(x, 0, 0)) \n",
    "    return (cumsum[N:] - cumsum[:-N]) / float(N)"
   ]
  },
  {
   "cell_type": "markdown",
   "metadata": {},
   "source": [
    "## Environment & Agent Initialization"
   ]
  },
  {
   "cell_type": "code",
   "execution_count": 21,
   "metadata": {},
   "outputs": [
    {
     "data": {
      "text/plain": [
       "(array([-3.        ,  0.        ,  0.        ,  0.        ,  0.        ,\n",
       "         0.        ,  3.        ,  0.        ,  0.        ,  0.        ,\n",
       "         0.        ,  0.        ,  1.98570633, -0.27267766,  0.        ,\n",
       "         0.        ,  0.        ,  0.        ]),\n",
       " {'winner': 0,\n",
       "  'reward_closeness_to_puck': 0.0,\n",
       "  'reward_touch_puck': 0.0,\n",
       "  'reward_puck_direction': 0.0})"
      ]
     },
     "execution_count": 21,
     "metadata": {},
     "output_type": "execute_result"
    }
   ],
   "source": [
    "env = h_env.HockeyEnv(mode=h_env.Mode.NORMAL)\n",
    "env.reset()"
   ]
  },
  {
   "cell_type": "code",
   "execution_count": 22,
   "metadata": {},
   "outputs": [],
   "source": [
    "STATE_PATH = \"./DDQN/models/hockey_mixed_dev/\"\n",
    "\n",
    "agent_player = DDQNAgent(\n",
    "    env.observation_space,\n",
    "    env.discrete_action_space\n",
    ")\n",
    "agent_player.load_state(STATE_PATH)\n",
    "\n",
    "agent_opp_weak = h_env.BasicOpponent(weak=True)\n",
    "agent_opp_strong = h_env.BasicOpponent(weak=False)"
   ]
  },
  {
   "cell_type": "markdown",
   "metadata": {},
   "source": [
    "## Evaluation"
   ]
  },
  {
   "cell_type": "markdown",
   "metadata": {},
   "source": [
    "### Winning Rates Against Opponents & Match Statistics"
   ]
  },
  {
   "cell_type": "code",
   "execution_count": 23,
   "metadata": {},
   "outputs": [
    {
     "data": {
      "application/vnd.jupyter.widget-view+json": {
       "model_id": "1c11f638aa7f437ab50b617e7c3639d8",
       "version_major": 2,
       "version_minor": 0
      },
      "text/plain": [
       "  0%|          | 0/1000 [00:00<?, ?it/s]"
      ]
     },
     "metadata": {},
     "output_type": "display_data"
    },
    {
     "data": {
      "application/vnd.jupyter.widget-view+json": {
       "model_id": "5bc11d8ad55b466b93360d479534c612",
       "version_major": 2,
       "version_minor": 0
      },
      "text/plain": [
       "  0%|          | 0/1000 [00:00<?, ?it/s]"
      ]
     },
     "metadata": {},
     "output_type": "display_data"
    }
   ],
   "source": [
    "weak_opp_stats = compare_agents(\n",
    "    agent_player, agent_opp_weak, env, num_matches=1000, tqdm=tqdm\n",
    ")\n",
    "strong_opp_stats = compare_agents(\n",
    "    agent_player, agent_opp_strong, env, num_matches=1000, tqdm=tqdm\n",
    ")"
   ]
  },
  {
   "cell_type": "code",
   "execution_count": 24,
   "metadata": {},
   "outputs": [
    {
     "name": "stdout",
     "output_type": "stream",
     "text": [
      "Weak Opponent Stats:\n",
      "Player Observation Mean:\n",
      "  x pos player one: -2.0193157010233556\n",
      "  y pos player one: 0.4608703811093886\n",
      "  angle player one: 0.08931009992165054\n",
      "  x vel player one: 0.47304561207102586\n",
      "  y vel player one: 0.34364539633539326\n",
      "  angular vel player one: 0.03850416311502162\n",
      "  x player two: 2.7995687399482616\n",
      "  y player two: 0.005574076569847045\n",
      "  angle player two: -0.00616579631601391\n",
      "  y vel player two: 0.02789970308117944\n",
      "  y vel player two: -0.001102856617999194\n",
      "  angular vel player two: 0.0010214674983274443\n",
      "  x pos puck: -0.022926518486426666\n",
      "  y pos puck: 0.05001918626254128\n",
      "  x vel puck: -0.8886079000628004\n",
      "  y vel puck: -0.0145039224842853\n",
      "  left player puck keep time: 0.8623762376237624\n",
      "  right player puck keep time: 0.8264414676761794\n",
      "\n",
      "Relative Std. Change in Agent Observations:\n",
      "  x pos player one: 0.15442928997866898\n",
      "  y pos player one: 0.5212089896134883\n",
      "  angle player one: 0.7720337870335996\n",
      "  x vel player one: -0.2516995590713395\n",
      "  y vel player one: 0.5401998438237177\n",
      "  angular vel player one: 0.8641826727984961\n",
      "  x player two: -0.18263320636398725\n",
      "  y player two: -1.088593934110697\n",
      "  angle player two: -3.3866149592413004\n",
      "  y vel player two: 0.20108624090119548\n",
      "  y vel player two: -1.1748578954736388\n",
      "  angular vel player two: -6.362830800788482\n",
      "  x pos puck: 0.0\n",
      "  y pos puck: 0.0\n",
      "  x vel puck: 0.0\n",
      "  y vel puck: 0.0\n",
      "  left player puck keep time: -0.024520433909139355\n",
      "  right player puck keep time: 0.023933572330597338\n",
      "\n",
      "Player Win Rate:\n",
      "0.14\n",
      "\n",
      "Win Status (1 for win, 0 for draw, -1 for loss):\n",
      "  Mean: -0.489\n",
      "  Std: 0.7279278810431704\n",
      "\n",
      "Returns:\n",
      "  Player: -9220.512354447941\n",
      "  Opponent: 1194.9678186101773\n",
      "  Difference: -10415.480173058118\n",
      "Strong Opponent Stats:\n",
      "Player Observation Mean:\n",
      "  x pos player one: -2.0949565439533298\n",
      "  y pos player one: 0.4513549546065769\n",
      "  angle player one: 0.07846469328725382\n",
      "  x vel player one: 0.43828704697898163\n",
      "  y vel player one: 0.15713468488790208\n",
      "  angular vel player one: 0.039386480058395824\n",
      "  x player two: 2.708059503495666\n",
      "  y player two: -0.007081843844654857\n",
      "  angle player two: -0.0006081813979069681\n",
      "  y vel player two: 0.022645569993731896\n",
      "  y vel player two: -0.013694799648959002\n",
      "  angular vel player two: 0.005975700163913795\n",
      "  x pos puck: -0.1460306745653749\n",
      "  y pos puck: -0.02515293131352392\n",
      "  x vel puck: -0.6388906771856915\n",
      "  y vel puck: -0.008345902987359752\n",
      "  left player puck keep time: 0.8580344680450992\n",
      "  right player puck keep time: 1.1200668243257903\n",
      "\n",
      "Relative Std. Change in Agent Observations:\n",
      "  x pos player one: 0.017903002480174998\n",
      "  y pos player one: 0.38515017695602555\n",
      "  angle player one: 0.009926020690761785\n",
      "  x vel player one: -0.4184696904658729\n",
      "  y vel player one: -0.5902058128200001\n",
      "  angular vel player one: 0.358309531311367\n",
      "  x player two: -0.018229362807733865\n",
      "  y player two: -0.6264134143346405\n",
      "  angle player two: -0.010025534352177443\n",
      "  y vel player two: 0.2950148975889879\n",
      "  y vel player two: 0.3711505819321308\n",
      "  angular vel player two: -0.5583837516608483\n",
      "  x pos puck: 0.0\n",
      "  y pos puck: 0.0\n",
      "  x vel puck: 0.0\n",
      "  y vel puck: 0.0\n",
      "  left player puck keep time: -0.17855711753104286\n",
      "  right player puck keep time: 0.15150484849228338\n",
      "\n",
      "Player Win Rate:\n",
      "0.215\n",
      "\n",
      "Win Status (1 for win, 0 for draw, -1 for loss):\n",
      "  Mean: -0.317\n",
      "  Std: 0.8040590774315032\n",
      "\n",
      "Returns:\n",
      "  Player: -8462.158101224943\n",
      "  Opponent: -430.8851572971248\n",
      "  Difference: -8031.272943927817\n"
     ]
    }
   ],
   "source": [
    "print(\"Weak Opponent Stats:\")\n",
    "display_stats(weak_opp_stats)\n",
    "\n",
    "print(\"Strong Opponent Stats:\")\n",
    "display_stats(strong_opp_stats)"
   ]
  },
  {
   "cell_type": "markdown",
   "metadata": {},
   "source": [
    "### Rendered Demonstration Against Strong Opponent"
   ]
  },
  {
   "cell_type": "code",
   "execution_count": 26,
   "metadata": {},
   "outputs": [
    {
     "name": "stdout",
     "output_type": "stream",
     "text": [
      "Episode done in 116 steps\n"
     ]
    }
   ],
   "source": [
    "obs_buffer = []\n",
    "reward_buffer = []\n",
    "obs, _ = env.reset()\n",
    "obs_opp = env.obs_agent_two()\n",
    "\n",
    "done = False\n",
    "trunc = False\n",
    "step = 0\n",
    "while not (done or trunc):\n",
    "    step += 1\n",
    "    env.render()\n",
    "\n",
    "    a1_discr = agent_player.act(obs)\n",
    "    a1 = env.discrete_to_continous_action(a1_discr)\n",
    "    a2 = agent_opp_strong.act(obs_opp)\n",
    "\n",
    "    obs, r, done, trunc, _ = env.step(np.hstack([a1, a2]))\n",
    "    obs_buffer.append(obs)\n",
    "    reward_buffer.append(r)\n",
    "\n",
    "    obs_opp = env.obs_agent_two()\n",
    "\n",
    "    if done or trunc:\n",
    "        print(f\"Episode done in {step} steps\")\n",
    "        break"
   ]
  },
  {
   "cell_type": "code",
   "execution_count": 27,
   "metadata": {},
   "outputs": [],
   "source": [
    "env.close()"
   ]
  }
 ],
 "metadata": {
  "kernelspec": {
   "display_name": "rl",
   "language": "python",
   "name": "python3"
  },
  "language_info": {
   "codemirror_mode": {
    "name": "ipython",
    "version": 3
   },
   "file_extension": ".py",
   "mimetype": "text/x-python",
   "name": "python",
   "nbconvert_exporter": "python",
   "pygments_lexer": "ipython3",
   "version": "3.11.11"
  }
 },
 "nbformat": 4,
 "nbformat_minor": 2
}
