{
 "cells": [
  {
   "cell_type": "markdown",
   "metadata": {},
   "source": [
    "## DDQN in Hockey Enviroment - Evaluation\n",
    "\n",
    "Evaluate a trained DDQN against various environments\n",
    "\n",
    "Base DQN implementation adapted from HW7"
   ]
  },
  {
   "cell_type": "code",
   "execution_count": 21,
   "metadata": {},
   "outputs": [],
   "source": [
    "from importlib import reload\n",
    "\n",
    "import numpy as np\n",
    "import gymnasium as gym\n",
    "from gymnasium import spaces\n",
    "from matplotlib import pyplot as plt\n",
    "from tqdm.notebook import tqdm\n",
    "\n",
    "from DDQN.DQN import DQNAgent\n",
    "from DDQN.DDQN import DDQNAgent\n",
    "import hockey.hockey_env as h_env"
   ]
  },
  {
   "cell_type": "code",
   "execution_count": 22,
   "metadata": {},
   "outputs": [],
   "source": [
    "def running_mean(x, N):\n",
    "    cumsum = np.cumsum(np.insert(x, 0, 0)) \n",
    "    return (cumsum[N:] - cumsum[:-N]) / float(N)"
   ]
  },
  {
   "cell_type": "code",
   "execution_count": null,
   "metadata": {},
   "outputs": [],
   "source": [
    "class DiscretizedHockey(h_env.HockeyEnv):\n",
    "    def __init__(self, bins, **kwargs):\n",
    "        super().__init__(**kwargs)\n",
    "\n",
    "        self.bins = bins\n",
    "        self.discretized_action_space = spaces.Discrete(self.bins)"
   ]
  },
  {
   "cell_type": "markdown",
   "metadata": {},
   "source": [
    "### Normal Gameplay"
   ]
  },
  {
   "cell_type": "markdown",
   "metadata": {},
   "source": [
    "#### Weak Opponent"
   ]
  },
  {
   "cell_type": "code",
   "execution_count": null,
   "metadata": {},
   "outputs": [
    {
     "name": "stderr",
     "output_type": "stream",
     "text": [
      "/home/kivanc/miniconda3/envs/rl/lib/python3.11/site-packages/gymnasium/envs/registration.py:642: UserWarning: \u001b[33mWARN: Overriding environment Hockey-v0 already in registry.\u001b[0m\n",
      "  logger.warn(f\"Overriding environment {new_spec.id} already in registry.\")\n",
      "/home/kivanc/miniconda3/envs/rl/lib/python3.11/site-packages/gymnasium/envs/registration.py:642: UserWarning: \u001b[33mWARN: Overriding environment Hockey-One-v0 already in registry.\u001b[0m\n",
      "  logger.warn(f\"Overriding environment {new_spec.id} already in registry.\")\n"
     ]
    }
   ],
   "source": [
    "RENDER = True\n",
    "\n",
    "reload(h_env)\n",
    "#env = DiscreteActionWrapper(h_env.HockeyEnv(mode=h_env.Mode.NORMAL), bins=8)  # TODO: change bin count?\n",
    "env = DiscretizedHockey(bins=5, mode=h_env.Mode.NORMAL)\n",
    "\n",
    "env.reset()\n",
    "if RENDER:\n",
    "    env.render()"
   ]
  },
  {
   "cell_type": "code",
   "execution_count": null,
   "metadata": {},
   "outputs": [],
   "source": [
    "# TODO: load agent from file\n",
    "DISCOUNT = 0.95\n",
    "EPS = 0.2\n",
    "UPDATE_TARGET_FREQ = 20\n",
    "TAU = 1e-3\n",
    "\n",
    "agent1 = DDQNAgent(\n",
    "    env.observation_space,\n",
    "    env.discrete_action_space,\n",
    "    discount=DISCOUNT,\n",
    "    epsilon=EPS,\n",
    "    update_target_freq=UPDATE_TARGET_FREQ,\n",
    "    tau=TAU\n",
    ")\n",
    "\n",
    "agent2 = h_env.BasicOpponent(weak=True)"
   ]
  },
  {
   "cell_type": "code",
   "execution_count": null,
   "metadata": {},
   "outputs": [],
   "source": [
    "STEPS = 1000000\n",
    "\n",
    "obs_buffer = []\n",
    "reward_buffer = []\n",
    "obs, _ = env.reset()\n",
    "obs_agent2 = env.obs_agent_two()\n",
    "\n",
    "for i in range(STEPS):\n",
    "    if RENDER:\n",
    "        env.render()\n",
    "    a1 = agent1.act(obs)\n",
    "    a1 = env.discrete_to_continous_action(a1)\n",
    "    a2 = agent2.act(obs_agent2)\n",
    "\n",
    "    obs, r, done, trunc, _ = env.step(np.hstack([a1, a2]))\n",
    "    obs_buffer.append(obs)\n",
    "    reward_buffer.append(r)\n",
    "\n",
    "    obs_agent2 = env.obs_agent_two()\n",
    "\n",
    "    if done or trunc:\n",
    "        print(f\"Episode done in {i} steps\")\n"
   ]
  },
  {
   "cell_type": "code",
   "execution_count": 29,
   "metadata": {},
   "outputs": [],
   "source": [
    "env.close()"
   ]
  }
 ],
 "metadata": {
  "kernelspec": {
   "display_name": "rl",
   "language": "python",
   "name": "python3"
  },
  "language_info": {
   "codemirror_mode": {
    "name": "ipython",
    "version": 3
   },
   "file_extension": ".py",
   "mimetype": "text/x-python",
   "name": "python",
   "nbconvert_exporter": "python",
   "pygments_lexer": "ipython3",
   "version": "3.11.11"
  }
 },
 "nbformat": 4,
 "nbformat_minor": 2
}
