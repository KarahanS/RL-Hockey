{
 "cells": [
  {
   "cell_type": "markdown",
   "metadata": {},
   "source": [
    "## DDQN in Hockey Enviroment - Evaluation\n",
    "\n",
    "Evaluate a trained DDQN against various environments\n",
    "\n",
    "Base DQN implementation adapted from HW7"
   ]
  },
  {
   "cell_type": "code",
   "execution_count": 1,
   "metadata": {},
   "outputs": [
    {
     "name": "stderr",
     "output_type": "stream",
     "text": [
      "/home/kivanc/miniconda3/envs/rl/lib/python3.11/site-packages/gymnasium/envs/registration.py:642: UserWarning: \u001b[33mWARN: Overriding environment Hockey-v0 already in registry.\u001b[0m\n",
      "  logger.warn(f\"Overriding environment {new_spec.id} already in registry.\")\n",
      "/home/kivanc/miniconda3/envs/rl/lib/python3.11/site-packages/gymnasium/envs/registration.py:642: UserWarning: \u001b[33mWARN: Overriding environment Hockey-One-v0 already in registry.\u001b[0m\n",
      "  logger.warn(f\"Overriding environment {new_spec.id} already in registry.\")\n"
     ]
    },
    {
     "data": {
      "text/plain": [
       "<module 'DDQN.DDQN' from '/home/kivanc/ders/RL/project/RL-Hockey/DDQN/DDQN.py'>"
      ]
     },
     "execution_count": 1,
     "metadata": {},
     "output_type": "execute_result"
    }
   ],
   "source": [
    "import os\n",
    "import sys\n",
    "from importlib import reload\n",
    "\n",
    "import numpy as np\n",
    "from tqdm.notebook import tqdm\n",
    "\n",
    "# Adding the parent directory to the path to enable importing\n",
    "root_dir = os.path.dirname(os.path.abspath(\"../\"))\n",
    "if root_dir not in sys.path:\n",
    "    sys.path.append(root_dir)\n",
    "\n",
    "import DDQN.DDQN as ddqn\n",
    "from DDQN.DQN import TargetDQNAgent, DoubleDQNAgent\n",
    "from DDQN.DDQN import DuelingDQNAgent, DoubleDuelingDQNAgent\n",
    "from DDQN.evaluation import compare_agents, display_stats\n",
    "from DDQN.trainer import RandomWeaknessBasicOpponent\n",
    "import hockey.hockey_env as h_env\n",
    "\n",
    "reload(h_env)\n",
    "reload(ddqn)"
   ]
  },
  {
   "cell_type": "code",
   "execution_count": 2,
   "metadata": {},
   "outputs": [],
   "source": [
    "def running_mean(x, N):\n",
    "    cumsum = np.cumsum(np.insert(x, 0, 0)) \n",
    "    return (cumsum[N:] - cumsum[:-N]) / float(N)"
   ]
  },
  {
   "cell_type": "markdown",
   "metadata": {},
   "source": [
    "## Environment & Agent Initialization"
   ]
  },
  {
   "cell_type": "code",
   "execution_count": 3,
   "metadata": {},
   "outputs": [
    {
     "data": {
      "text/plain": [
       "(array([-3.        ,  0.        ,  0.        ,  0.        ,  0.        ,\n",
       "         0.        ,  3.        ,  0.        ,  0.        ,  0.        ,\n",
       "         0.        ,  0.        ,  1.0678153 , -0.06325722,  0.        ,\n",
       "         0.        ,  0.        ,  0.        ]),\n",
       " {'winner': 0,\n",
       "  'reward_closeness_to_puck': 0.0,\n",
       "  'reward_touch_puck': 0.0,\n",
       "  'reward_puck_direction': 0.0})"
      ]
     },
     "execution_count": 3,
     "metadata": {},
     "output_type": "execute_result"
    }
   ],
   "source": [
    "env = h_env.HockeyEnv(mode=h_env.Mode.NORMAL)\n",
    "env.reset()"
   ]
  },
  {
   "cell_type": "code",
   "execution_count": 4,
   "metadata": {},
   "outputs": [],
   "source": [
    "agent_player = DoubleDuelingDQNAgent(\n",
    "    env.observation_space,\n",
    "    env.discrete_action_space,\n",
    "    hidden_sizes=[512],\n",
    "    hidden_sizes_A=[512, 512],\n",
    "    hidden_sizes_V=[512, 512],\n",
    "    use_torch=False\n",
    ")"
   ]
  },
  {
   "cell_type": "code",
   "execution_count": 5,
   "metadata": {},
   "outputs": [],
   "source": [
    "agent_player = DoubleDQNAgent(\n",
    "    env.observation_space,\n",
    "    env.discrete_action_space,\n",
    "    hidden_sizes=[2048],\n",
    "    use_torch=False\n",
    ")"
   ]
  },
  {
   "cell_type": "code",
   "execution_count": 5,
   "metadata": {},
   "outputs": [],
   "source": [
    "STATE_PATH = \"./models/doub-duel-dqn-512/\""
   ]
  },
  {
   "cell_type": "code",
   "execution_count": 6,
   "metadata": {},
   "outputs": [],
   "source": [
    "agent_player.load_state(STATE_PATH)\n",
    "\n",
    "agent_opp_weak = h_env.BasicOpponent(weak=True)\n",
    "agent_opp_strong = h_env.BasicOpponent(weak=False)\n",
    "agent_opp_random = RandomWeaknessBasicOpponent(0.2)"
   ]
  },
  {
   "cell_type": "markdown",
   "metadata": {},
   "source": [
    "## Evaluation"
   ]
  },
  {
   "cell_type": "markdown",
   "metadata": {},
   "source": [
    "### Winning Rates Against Opponents & Match Statistics"
   ]
  },
  {
   "cell_type": "code",
   "execution_count": 7,
   "metadata": {},
   "outputs": [
    {
     "data": {
      "application/vnd.jupyter.widget-view+json": {
       "model_id": "48b0377b610d4fd79b542d9ec980a972",
       "version_major": 2,
       "version_minor": 0
      },
      "text/plain": [
       "  0%|          | 0/1000 [00:00<?, ?it/s]"
      ]
     },
     "metadata": {},
     "output_type": "display_data"
    },
    {
     "data": {
      "application/vnd.jupyter.widget-view+json": {
       "model_id": "d5c6f54d5b1b4932b9392f1c6147d413",
       "version_major": 2,
       "version_minor": 0
      },
      "text/plain": [
       "  0%|          | 0/1000 [00:00<?, ?it/s]"
      ]
     },
     "metadata": {},
     "output_type": "display_data"
    },
    {
     "data": {
      "application/vnd.jupyter.widget-view+json": {
       "model_id": "c754524283d14574981364ae48a1a4ec",
       "version_major": 2,
       "version_minor": 0
      },
      "text/plain": [
       "  0%|          | 0/1000 [00:00<?, ?it/s]"
      ]
     },
     "metadata": {},
     "output_type": "display_data"
    }
   ],
   "source": [
    "weak_opp_stats = compare_agents(\n",
    "    agent_player, agent_opp_weak, env, num_matches=1000, tqdm=tqdm\n",
    ")\n",
    "strong_opp_stats = compare_agents(\n",
    "    agent_player, agent_opp_strong, env, num_matches=1000, tqdm=tqdm\n",
    ")\n",
    "random_opp_stats = compare_agents(\n",
    "    agent_player, agent_opp_random, env, num_matches=1000, tqdm=tqdm\n",
    ")"
   ]
  },
  {
   "cell_type": "code",
   "execution_count": 9,
   "metadata": {},
   "outputs": [
    {
     "name": "stdout",
     "output_type": "stream",
     "text": [
      "########################################\n",
      "Stats Against Weak Opponent:\n",
      "Player Win Rate: 0.135\n",
      "Opponent Win Rate: 0.105\n",
      "Draw Rate: 0.76\n",
      "\n",
      "Win Status (1 for win, 0 for draw, -1 for loss):\n",
      "  Mean: 0.03\n",
      "  Std: 0.48897852713590606\n",
      "\n",
      "Returns:\n",
      "  Player: -2219.205389668123\n",
      "  Opponent: -13131.250786889781\n",
      "  Difference: 10912.045397221658\n",
      "\n",
      "########################################\n",
      "Stats Against Strong Opponent:\n",
      "Player Win Rate: 0.142\n",
      "Opponent Win Rate: 0.26\n",
      "Draw Rate: 0.598\n",
      "\n",
      "Win Status (1 for win, 0 for draw, -1 for loss):\n",
      "  Mean: -0.118\n",
      "  Std: 0.6229574624322274\n",
      "\n",
      "Returns:\n",
      "  Player: -4890.919107660536\n",
      "  Opponent: -7369.00002899272\n",
      "  Difference: 2478.0809213321845\n",
      "\n",
      "########################################\n",
      "Stats Against Random Opponent:\n",
      "Player Win Rate: 0.123\n",
      "Opponent Win Rate: 0.136\n",
      "Draw Rate: 0.741\n",
      "\n",
      "Win Status (1 for win, 0 for draw, -1 for loss):\n",
      "  Mean: -0.013\n",
      "  Std: 0.5087543611606685\n",
      "\n",
      "Returns:\n",
      "  Player: -2705.7121778556443\n",
      "  Opponent: -12340.95905328861\n",
      "  Difference: 9635.246875432966\n"
     ]
    }
   ],
   "source": [
    "print(\"#\" * 40)\n",
    "print(\"Stats Against Weak Opponent:\")\n",
    "display_stats(weak_opp_stats)\n",
    "\n",
    "print()\n",
    "print(\"#\" * 40)\n",
    "print(\"Stats Against Strong Opponent:\")\n",
    "display_stats(strong_opp_stats)\n",
    "\n",
    "print()\n",
    "print(\"#\" * 40)\n",
    "print(\"Stats Against Random Opponent:\")\n",
    "display_stats(random_opp_stats)"
   ]
  },
  {
   "cell_type": "markdown",
   "metadata": {},
   "source": [
    "### Rendered Demonstration Against Strong Opponent"
   ]
  },
  {
   "cell_type": "code",
   "execution_count": 14,
   "metadata": {},
   "outputs": [
    {
     "name": "stdout",
     "output_type": "stream",
     "text": [
      "Episode done in 211 steps\n",
      "Winner: Opponent\n"
     ]
    }
   ],
   "source": [
    "obs_buffer = []\n",
    "reward_buffer = []\n",
    "obs, _ = env.reset()\n",
    "obs_opp = env.obs_agent_two()\n",
    "\n",
    "done = False\n",
    "trunc = False\n",
    "step = 0\n",
    "while not (done or trunc):\n",
    "    step += 1\n",
    "    env.render()\n",
    "\n",
    "    a1_discr = agent_player.act(obs)\n",
    "    a1 = env.discrete_to_continous_action(a1_discr)\n",
    "    a2 = agent_opp_strong.act(obs_opp)\n",
    "\n",
    "    obs, r, done, trunc, info = env.step(np.hstack([a1, a2]))\n",
    "    obs_buffer.append(obs)\n",
    "    reward_buffer.append(r)\n",
    "\n",
    "    obs_opp = env.obs_agent_two()\n",
    "\n",
    "    if done or trunc:\n",
    "        print(f\"Episode done in {step} steps\")\n",
    "        winner = info[\"winner\"]\n",
    "        if winner == 0:\n",
    "            print(\"Draw\")\n",
    "        else:\n",
    "            print(f\"Winner: \" + (\"Player\" if winner == 1 else \"Opponent\"))\n",
    "        break"
   ]
  },
  {
   "cell_type": "code",
   "execution_count": 15,
   "metadata": {},
   "outputs": [],
   "source": [
    "env.close()"
   ]
  }
 ],
 "metadata": {
  "kernelspec": {
   "display_name": "rl",
   "language": "python",
   "name": "python3"
  },
  "language_info": {
   "codemirror_mode": {
    "name": "ipython",
    "version": 3
   },
   "file_extension": ".py",
   "mimetype": "text/x-python",
   "name": "python",
   "nbconvert_exporter": "python",
   "pygments_lexer": "ipython3",
   "version": "3.11.11"
  }
 },
 "nbformat": 4,
 "nbformat_minor": 2
}
