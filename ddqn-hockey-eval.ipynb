{
 "cells": [
  {
   "cell_type": "markdown",
   "metadata": {},
   "source": [
    "## DDQN in Hockey Enviroment - Evaluation\n",
    "\n",
    "Evaluate a trained DDQN against various environments\n",
    "\n",
    "Base DQN implementation adapted from HW7"
   ]
  },
  {
   "cell_type": "code",
   "execution_count": 1,
   "metadata": {},
   "outputs": [
    {
     "name": "stderr",
     "output_type": "stream",
     "text": [
      "/home/kivanc/miniconda3/envs/rl/lib/python3.11/site-packages/gymnasium/envs/registration.py:642: UserWarning: \u001b[33mWARN: Overriding environment Hockey-v0 already in registry.\u001b[0m\n",
      "  logger.warn(f\"Overriding environment {new_spec.id} already in registry.\")\n",
      "/home/kivanc/miniconda3/envs/rl/lib/python3.11/site-packages/gymnasium/envs/registration.py:642: UserWarning: \u001b[33mWARN: Overriding environment Hockey-One-v0 already in registry.\u001b[0m\n",
      "  logger.warn(f\"Overriding environment {new_spec.id} already in registry.\")\n"
     ]
    },
    {
     "data": {
      "text/plain": [
       "<module 'DDQN.DDQN' from '/home/kivanc/ders/RL/project/RL-Hockey/DDQN/DDQN.py'>"
      ]
     },
     "execution_count": 1,
     "metadata": {},
     "output_type": "execute_result"
    }
   ],
   "source": [
    "from importlib import reload\n",
    "\n",
    "import numpy as np\n",
    "from tqdm.notebook import tqdm\n",
    "\n",
    "import DDQN.DDQN as ddqn\n",
    "from DDQN.DDQN import DDQNAgent\n",
    "from DDQN.evaluation import compare_agents, display_stats\n",
    "import hockey.hockey_env as h_env\n",
    "\n",
    "reload(h_env)\n",
    "reload(ddqn)"
   ]
  },
  {
   "cell_type": "code",
   "execution_count": 2,
   "metadata": {},
   "outputs": [],
   "source": [
    "def running_mean(x, N):\n",
    "    cumsum = np.cumsum(np.insert(x, 0, 0)) \n",
    "    return (cumsum[N:] - cumsum[:-N]) / float(N)"
   ]
  },
  {
   "cell_type": "markdown",
   "metadata": {},
   "source": [
    "## Environment & Agent Initialization"
   ]
  },
  {
   "cell_type": "code",
   "execution_count": 3,
   "metadata": {},
   "outputs": [
    {
     "data": {
      "text/plain": [
       "(array([-3.        ,  0.        ,  0.        ,  0.        ,  0.        ,\n",
       "         0.        ,  3.        ,  0.        ,  0.        ,  0.        ,\n",
       "         0.        ,  0.        ,  1.37346315,  0.74111128,  0.        ,\n",
       "         0.        ,  0.        ,  0.        ]),\n",
       " {'winner': 0,\n",
       "  'reward_closeness_to_puck': 0.0,\n",
       "  'reward_touch_puck': 0.0,\n",
       "  'reward_puck_direction': 0.0})"
      ]
     },
     "execution_count": 3,
     "metadata": {},
     "output_type": "execute_result"
    }
   ],
   "source": [
    "env = h_env.HockeyEnv(mode=h_env.Mode.NORMAL)\n",
    "env.reset()"
   ]
  },
  {
   "cell_type": "code",
   "execution_count": 4,
   "metadata": {},
   "outputs": [],
   "source": [
    "STATE_PATH = \"./DDQN/models/hockey_mixed_dev/\"\n",
    "\n",
    "agent_player = DDQNAgent(\n",
    "    env.observation_space,\n",
    "    env.discrete_action_space\n",
    ")\n",
    "agent_player.load_state(STATE_PATH)\n",
    "\n",
    "agent_opp_weak = h_env.BasicOpponent(weak=True)\n",
    "agent_opp_strong = h_env.BasicOpponent(weak=False)"
   ]
  },
  {
   "cell_type": "markdown",
   "metadata": {},
   "source": [
    "## Evaluation"
   ]
  },
  {
   "cell_type": "markdown",
   "metadata": {},
   "source": [
    "### Winning Rates Against Opponents & Match Statistics"
   ]
  },
  {
   "cell_type": "code",
   "execution_count": 6,
   "metadata": {},
   "outputs": [
    {
     "data": {
      "application/vnd.jupyter.widget-view+json": {
       "model_id": "46a29d86b0094907a7233958f6389f94",
       "version_major": 2,
       "version_minor": 0
      },
      "text/plain": [
       "  0%|          | 0/1000 [00:00<?, ?it/s]"
      ]
     },
     "metadata": {},
     "output_type": "display_data"
    },
    {
     "data": {
      "application/vnd.jupyter.widget-view+json": {
       "model_id": "130d53f22dc545bfaa2bc40f61f6ecf9",
       "version_major": 2,
       "version_minor": 0
      },
      "text/plain": [
       "  0%|          | 0/1000 [00:00<?, ?it/s]"
      ]
     },
     "metadata": {},
     "output_type": "display_data"
    }
   ],
   "source": [
    "weak_opp_stats = compare_agents(\n",
    "    agent_player, agent_opp_weak, env, num_matches=1000, tqdm=tqdm\n",
    ")\n",
    "strong_opp_stats = compare_agents(\n",
    "    agent_player, agent_opp_strong, env, num_matches=1000, tqdm=tqdm\n",
    ")"
   ]
  },
  {
   "cell_type": "code",
   "execution_count": 7,
   "metadata": {},
   "outputs": [
    {
     "name": "stdout",
     "output_type": "stream",
     "text": [
      "Weak Opponent Stats:\n",
      "Player Observation Mean:\n",
      "  x pos player one: -2.030508588284232\n",
      "  y pos player one: 0.5147690643466569\n",
      "  angle player one: 0.08989587131911483\n",
      "  x vel player one: 0.4264605116501769\n",
      "  y vel player one: 0.3203428443802452\n",
      "  angular vel player one: 0.04945519872067978\n",
      "  x player two: 2.8218203605041383\n",
      "  y player two: -0.019924067602875864\n",
      "  angle player two: -0.004754417855837733\n",
      "  y vel player two: 0.0325562418307977\n",
      "  y vel player two: -0.012695931352237835\n",
      "  angular vel player two: 0.0014306109641619318\n",
      "  x pos puck: 0.04673915050150489\n",
      "  y pos puck: 0.0055823536817285095\n",
      "  x vel puck: -0.9200172461770368\n",
      "  y vel puck: -0.04205428590664245\n",
      "  left player puck keep time: 0.8536769651026661\n",
      "  right player puck keep time: 0.8125275035495146\n",
      "\n",
      "Relative Std. Change in Agent Observations:\n",
      "  x pos player one: 0.16425445998432814\n",
      "  y pos player one: 0.5107164377696342\n",
      "  angle player one: 0.7743364145456684\n",
      "  x vel player one: -0.24060218230283872\n",
      "  y vel player one: 0.5461383151440706\n",
      "  angular vel player one: 0.864761607779614\n",
      "  x player two: -0.19653644814095933\n",
      "  y player two: -1.0438046098290488\n",
      "  angle player two: -3.4313751285422778\n",
      "  y vel player two: 0.19393983481169327\n",
      "  y vel player two: -1.2033144311739663\n",
      "  angular vel player two: -6.394349959221553\n",
      "  x pos puck: 0.0\n",
      "  y pos puck: 0.0\n",
      "  x vel puck: 0.0\n",
      "  y vel puck: 0.0\n",
      "  left player puck keep time: -0.02123613145401958\n",
      "  right player puck keep time: 0.020794535954954823\n",
      "\n",
      "Player Win Rate:\n",
      "0.133\n",
      "\n",
      "Win Status (1 for win, 0 for draw, -1 for loss):\n",
      "  Mean: -0.509\n",
      "  Std: 0.7182750169677351\n",
      "\n",
      "Returns:\n",
      "  Player: -9420.204770804825\n",
      "  Opponent: 1336.7383421051666\n",
      "  Difference: 10756.943112909992\n",
      "Strong Opponent Stats:\n",
      "Player Observation Mean:\n",
      "  x pos player one: -2.056048835712497\n",
      "  y pos player one: 0.44937820567829784\n",
      "  angle player one: 0.07376958639623986\n",
      "  x vel player one: 0.4270679134413284\n",
      "  y vel player one: 0.16833980872551654\n",
      "  angular vel player one: 0.04177835971008837\n",
      "  x player two: 2.701311332298628\n",
      "  y player two: 0.010934285372445477\n",
      "  angle player two: -0.0007401399533391561\n",
      "  y vel player two: 0.03916359257860437\n",
      "  y vel player two: 0.006977941360754113\n",
      "  angular vel player two: -0.00580635038818803\n",
      "  x pos puck: -0.15430938239105205\n",
      "  y pos puck: 0.01672007181956158\n",
      "  x vel puck: -0.6998641235978681\n",
      "  y vel puck: -0.024461629726757264\n",
      "  left player puck keep time: 0.8788812601560556\n",
      "  right player puck keep time: 1.1328668257477053\n",
      "\n",
      "Relative Std. Change in Agent Observations:\n",
      "  x pos player one: 0.014585702490148345\n",
      "  y pos player one: 0.39345363286509627\n",
      "  angle player one: 0.017622636187985534\n",
      "  x vel player one: -0.37697132652443605\n",
      "  y vel player one: -0.6115836711553022\n",
      "  angular vel player one: 0.34633360181554507\n",
      "  x player two: -0.01480159413863439\n",
      "  y player two: -0.6486785746053065\n",
      "  angle player two: -0.017938764508582228\n",
      "  y vel player two: 0.2737684650819388\n",
      "  y vel player two: 0.3794923478697658\n",
      "  angular vel player two: -0.5298323468629864\n",
      "  x pos puck: 0.0\n",
      "  y pos puck: 0.0\n",
      "  x vel puck: 0.0\n",
      "  y vel puck: 0.0\n",
      "  left player puck keep time: -0.17167217544089658\n",
      "  right player puck keep time: 0.14651894876337476\n",
      "\n",
      "Player Win Rate:\n",
      "0.214\n",
      "\n",
      "Win Status (1 for win, 0 for draw, -1 for loss):\n",
      "  Mean: -0.342\n",
      "  Std: 0.8081064286342486\n",
      "\n",
      "Returns:\n",
      "  Player: -8598.527310974827\n",
      "  Opponent: -33.54302545143466\n",
      "  Difference: 8564.984285523393\n"
     ]
    }
   ],
   "source": [
    "print(\"Weak Opponent Stats:\")\n",
    "display_stats(weak_opp_stats)\n",
    "\n",
    "print(\"Strong Opponent Stats:\")\n",
    "display_stats(strong_opp_stats)"
   ]
  },
  {
   "cell_type": "markdown",
   "metadata": {},
   "source": [
    "### Rendered Demonstration Against Strong Opponent"
   ]
  },
  {
   "cell_type": "code",
   "execution_count": null,
   "metadata": {},
   "outputs": [
    {
     "name": "stdout",
     "output_type": "stream",
     "text": [
      "Episode done in 116 steps\n"
     ]
    }
   ],
   "source": [
    "obs_buffer = []\n",
    "reward_buffer = []\n",
    "obs, _ = env.reset()\n",
    "obs_opp = env.obs_agent_two()\n",
    "\n",
    "done = False\n",
    "trunc = False\n",
    "step = 0\n",
    "while not (done or trunc):\n",
    "    step += 1\n",
    "    env.render()\n",
    "\n",
    "    a1_discr = agent_player.act(obs)\n",
    "    a1 = env.discrete_to_continous_action(a1_discr)\n",
    "    a2 = agent_opp_strong.act(obs_opp)\n",
    "\n",
    "    obs, r, done, trunc, _ = env.step(np.hstack([a1, a2]))\n",
    "    obs_buffer.append(obs)\n",
    "    reward_buffer.append(r)\n",
    "\n",
    "    obs_opp = env.obs_agent_two()\n",
    "\n",
    "    if done or trunc:\n",
    "        print(f\"Episode done in {step} steps\")\n",
    "        break"
   ]
  },
  {
   "cell_type": "code",
   "execution_count": null,
   "metadata": {},
   "outputs": [],
   "source": [
    "env.close()"
   ]
  }
 ],
 "metadata": {
  "kernelspec": {
   "display_name": "rl",
   "language": "python",
   "name": "python3"
  },
  "language_info": {
   "codemirror_mode": {
    "name": "ipython",
    "version": 3
   },
   "file_extension": ".py",
   "mimetype": "text/x-python",
   "name": "python",
   "nbconvert_exporter": "python",
   "pygments_lexer": "ipython3",
   "version": "3.11.11"
  }
 },
 "nbformat": 4,
 "nbformat_minor": 2
}
