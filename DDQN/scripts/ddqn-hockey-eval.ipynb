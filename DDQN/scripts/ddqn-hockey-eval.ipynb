{
 "cells": [
  {
   "cell_type": "markdown",
   "metadata": {},
   "source": [
    "## DDQN in Hockey Enviroment - Evaluation\n",
    "\n",
    "Evaluate a trained DDQN against various environments\n",
    "\n",
    "Base DQN implementation adapted from HW7"
   ]
  },
  {
   "cell_type": "code",
   "execution_count": 21,
   "metadata": {},
   "outputs": [
    {
     "data": {
      "text/plain": [
       "<module 'DDQN.DDQN' from '/home/kivanc/ders/RL/project/RL-Hockey/DDQN/DDQN.py'>"
      ]
     },
     "execution_count": 21,
     "metadata": {},
     "output_type": "execute_result"
    }
   ],
   "source": [
    "import os\n",
    "import sys\n",
    "from importlib import reload\n",
    "\n",
    "import numpy as np\n",
    "from tqdm.notebook import tqdm\n",
    "\n",
    "# Adding the parent directory to the path to enable importing\n",
    "root_dir = os.path.dirname(os.path.abspath(\"../\"))\n",
    "if root_dir not in sys.path:\n",
    "    sys.path.append(root_dir)\n",
    "\n",
    "import DDQN.DDQN as ddqn\n",
    "from DDQN.DQN import TargetDQNAgent, DoubleDQNAgent\n",
    "from DDQN.DDQN import DuelingDQNAgent, DoubleDuelingDQNAgent\n",
    "from DDQN.evaluation import compare_agents, display_stats\n",
    "import hockey.hockey_env as h_env\n",
    "\n",
    "reload(h_env)\n",
    "reload(ddqn)"
   ]
  },
  {
   "cell_type": "code",
   "execution_count": 22,
   "metadata": {},
   "outputs": [],
   "source": [
    "def running_mean(x, N):\n",
    "    cumsum = np.cumsum(np.insert(x, 0, 0)) \n",
    "    return (cumsum[N:] - cumsum[:-N]) / float(N)"
   ]
  },
  {
   "cell_type": "markdown",
   "metadata": {},
   "source": [
    "## Environment & Agent Initialization"
   ]
  },
  {
   "cell_type": "code",
   "execution_count": 23,
   "metadata": {},
   "outputs": [
    {
     "data": {
      "text/plain": [
       "(array([-3.        ,  0.        ,  0.        ,  0.        ,  0.        ,\n",
       "         0.        ,  3.        ,  0.        ,  0.        ,  0.        ,\n",
       "         0.        ,  0.        ,  1.19867516, -0.67558265,  0.        ,\n",
       "         0.        ,  0.        ,  0.        ]),\n",
       " {'winner': 0,\n",
       "  'reward_closeness_to_puck': 0.0,\n",
       "  'reward_touch_puck': 0.0,\n",
       "  'reward_puck_direction': 0.0})"
      ]
     },
     "execution_count": 23,
     "metadata": {},
     "output_type": "execute_result"
    }
   ],
   "source": [
    "env = h_env.HockeyEnv(mode=h_env.Mode.NORMAL)\n",
    "env.reset()"
   ]
  },
  {
   "cell_type": "code",
   "execution_count": null,
   "metadata": {},
   "outputs": [],
   "source": [
    "STATE_PATH = \"../models/hockey_double-ddqn_dev/\"\n",
    "\n",
    "agent_player = DoubleDuelingDQNAgent(\n",
    "    env.observation_space,\n",
    "    env.discrete_action_space,\n",
    "    hidden_sizes=[512],\n",
    "    hidden_sizes_A=[512, 512],\n",
    "    hidden_sizes_V=[512, 512],\n",
    "    use_torch=False\n",
    ")\n",
    "agent_player.load_state(STATE_PATH)\n",
    "\n",
    "agent_opp_weak = h_env.BasicOpponent(weak=True)\n",
    "agent_opp_strong = h_env.BasicOpponent(weak=False)"
   ]
  },
  {
   "cell_type": "markdown",
   "metadata": {},
   "source": [
    "## Evaluation"
   ]
  },
  {
   "cell_type": "markdown",
   "metadata": {},
   "source": [
    "### Winning Rates Against Opponents & Match Statistics"
   ]
  },
  {
   "cell_type": "code",
   "execution_count": 26,
   "metadata": {},
   "outputs": [
    {
     "data": {
      "application/vnd.jupyter.widget-view+json": {
       "model_id": "5ae94ad6124e4635be6f5cc41a1c0b37",
       "version_major": 2,
       "version_minor": 0
      },
      "text/plain": [
       "  0%|          | 0/1000 [00:00<?, ?it/s]"
      ]
     },
     "metadata": {},
     "output_type": "display_data"
    },
    {
     "data": {
      "application/vnd.jupyter.widget-view+json": {
       "model_id": "3438c4a930c046909f1dc899dcb5c324",
       "version_major": 2,
       "version_minor": 0
      },
      "text/plain": [
       "  0%|          | 0/1000 [00:00<?, ?it/s]"
      ]
     },
     "metadata": {},
     "output_type": "display_data"
    }
   ],
   "source": [
    "weak_opp_stats = compare_agents(\n",
    "    agent_player, agent_opp_weak, env, num_matches=1000, tqdm=tqdm\n",
    ")\n",
    "strong_opp_stats = compare_agents(\n",
    "    agent_player, agent_opp_strong, env, num_matches=1000, tqdm=tqdm\n",
    ")"
   ]
  },
  {
   "cell_type": "code",
   "execution_count": 28,
   "metadata": {},
   "outputs": [
    {
     "name": "stdout",
     "output_type": "stream",
     "text": [
      "########################################\n",
      "Stats Against Weak Opponent:\n",
      "Player Observation Mean:\n",
      "  x pos player one: -2.085512425071444\n",
      "  y pos player one: 2.661450686525624\n",
      "  angle player one: -0.16862544087174122\n",
      "  x vel player one: 0.3478612415547019\n",
      "  y vel player one: 0.787802214157836\n",
      "  angular vel player one: -0.09975919868787024\n",
      "  x player two: 1.31187419424935\n",
      "  y player two: -0.01932853013759281\n",
      "  angle player two: -0.002281472012421103\n",
      "  y vel player two: -0.35687117274087693\n",
      "  y vel player two: -0.006532554771432387\n",
      "  angular vel player two: -0.0015970454550710352\n",
      "  x pos puck: -1.0250661493560371\n",
      "  y pos puck: -0.07513335232927543\n",
      "  x vel puck: -0.7507639871730074\n",
      "  y vel puck: -0.045202655977840754\n",
      "  left player puck keep time: 0.06694466031804948\n",
      "  right player puck keep time: 0.35197708002273437\n",
      "\n",
      "Relative Std. Change in Agent Observations:\n",
      "  x pos player one: -0.5444367802116863\n",
      "  y pos player one: 0.07498820169727088\n",
      "  angle player one: 0.6885531072690813\n",
      "  x vel player one: -1.1119443756062295\n",
      "  y vel player one: 0.7157468941462906\n",
      "  angular vel player one: 0.4871678151541929\n",
      "  x player two: 0.3525147724965885\n",
      "  y player two: -0.08106729215223421\n",
      "  angle player two: -2.2108202821723815\n",
      "  y vel player two: 0.526502680870583\n",
      "  y vel player two: -2.517991463968907\n",
      "  angular vel player two: -0.9499556181339697\n",
      "  x pos puck: 0.0\n",
      "  y pos puck: 0.0\n",
      "  x vel puck: 0.0\n",
      "  y vel puck: 0.0\n",
      "  left player puck keep time: -1.3573391367741485\n",
      "  right player puck keep time: 0.575792899545023\n",
      "\n",
      "Player Win Rate:\n",
      "0.021\n",
      "\n",
      "Win Status (1 for win, 0 for draw, -1 for loss):\n",
      "  Mean: -0.374\n",
      "  Std: 0.5254750231933009\n",
      "\n",
      "Returns:\n",
      "  Player: -26554.453527788202\n",
      "  Opponent: 2007.4454934305463\n",
      "  Difference: 28561.89902121875\n",
      "\n",
      "########################################\n",
      "Stats Against Strong Opponent:\n",
      "Player Observation Mean:\n",
      "  x pos player one: -2.5393939990495755\n",
      "  y pos player one: 2.6642455535180427\n",
      "  angle player one: -0.15960885486815568\n",
      "  x vel player one: 0.1578009437687736\n",
      "  y vel player one: 0.7274603977429364\n",
      "  angular vel player one: -0.07907920046906379\n",
      "  x player two: 1.4076211875937994\n",
      "  y player two: 0.043968533711160364\n",
      "  angle player two: 0.0010485289387326155\n",
      "  y vel player two: -0.30873387565046634\n",
      "  y vel player two: 0.01879512768573967\n",
      "  angular vel player two: -0.0001521845609681933\n",
      "  x pos puck: -1.0399651553199125\n",
      "  y pos puck: 0.04673538801652607\n",
      "  x vel puck: -0.6288144907230456\n",
      "  y vel puck: 0.0008953526491974718\n",
      "  left player puck keep time: 0.09486493961463999\n",
      "  right player puck keep time: 0.44870091486396346\n",
      "\n",
      "Relative Std. Change in Agent Observations:\n",
      "  x pos player one: -0.8043490302674969\n",
      "  y pos player one: -0.19162502845873403\n",
      "  angle player one: -0.4179359244480422\n",
      "  x vel player one: -2.5726855301555625\n",
      "  y vel player one: -0.054991470848276644\n",
      "  angular vel player one: -1.2759360541560554\n",
      "  x player two: 0.44578350240155656\n",
      "  y player two: 0.1608098385669062\n",
      "  angle player two: 0.2947495138828163\n",
      "  y vel player two: 0.7200985108934405\n",
      "  y vel player two: 0.05212503832287875\n",
      "  angular vel player two: 0.5606203442430143\n",
      "  x pos puck: 0.0\n",
      "  y pos puck: 0.0\n",
      "  x vel puck: 0.0\n",
      "  y vel puck: 0.0\n",
      "  left player puck keep time: -1.2289781396339647\n",
      "  right player puck keep time: 0.5513639267165641\n",
      "\n",
      "Player Win Rate:\n",
      "0.065\n",
      "\n",
      "Win Status (1 for win, 0 for draw, -1 for loss):\n",
      "  Mean: -0.267\n",
      "  Std: 0.5707109601190431\n",
      "\n",
      "Returns:\n",
      "  Player: -26389.725194174913\n",
      "  Opponent: 529.0270259485573\n",
      "  Difference: 26918.75222012347\n"
     ]
    }
   ],
   "source": [
    "print(\"#\" * 40)\n",
    "print(\"Stats Against Weak Opponent:\")\n",
    "display_stats(weak_opp_stats)\n",
    "\n",
    "print()\n",
    "print(\"#\" * 40)\n",
    "print(\"Stats Against Strong Opponent:\")\n",
    "display_stats(strong_opp_stats)"
   ]
  },
  {
   "cell_type": "markdown",
   "metadata": {},
   "source": [
    "### Rendered Demonstration Against Strong Opponent"
   ]
  },
  {
   "cell_type": "code",
   "execution_count": 31,
   "metadata": {},
   "outputs": [
    {
     "ename": "error",
     "evalue": "display Surface quit",
     "output_type": "error",
     "traceback": [
      "\u001b[0;31m---------------------------------------------------------------------------\u001b[0m",
      "\u001b[0;31merror\u001b[0m                                     Traceback (most recent call last)",
      "Cell \u001b[0;32mIn[31], line 11\u001b[0m\n\u001b[1;32m      9\u001b[0m \u001b[38;5;28;01mwhile\u001b[39;00m \u001b[38;5;129;01mnot\u001b[39;00m (done \u001b[38;5;129;01mor\u001b[39;00m trunc):\n\u001b[1;32m     10\u001b[0m     step \u001b[38;5;241m+\u001b[39m\u001b[38;5;241m=\u001b[39m \u001b[38;5;241m1\u001b[39m\n\u001b[0;32m---> 11\u001b[0m     \u001b[43menv\u001b[49m\u001b[38;5;241;43m.\u001b[39;49m\u001b[43mrender\u001b[49m\u001b[43m(\u001b[49m\u001b[43m)\u001b[49m\n\u001b[1;32m     13\u001b[0m     a1_discr \u001b[38;5;241m=\u001b[39m agent_player\u001b[38;5;241m.\u001b[39mact(obs)\n\u001b[1;32m     14\u001b[0m     a1 \u001b[38;5;241m=\u001b[39m env\u001b[38;5;241m.\u001b[39mdiscrete_to_continous_action(a1_discr)\n",
      "File \u001b[0;32m~/ders/RL/project/RL-Hockey/hockey/hockey_env.py:1073\u001b[0m, in \u001b[0;36mHockeyEnv.render\u001b[0;34m(self, mode)\u001b[0m\n\u001b[1;32m   1071\u001b[0m \u001b[38;5;28;01mif\u001b[39;00m mode \u001b[38;5;241m==\u001b[39m \u001b[38;5;124m\"\u001b[39m\u001b[38;5;124mhuman\u001b[39m\u001b[38;5;124m\"\u001b[39m:\n\u001b[1;32m   1072\u001b[0m     \u001b[38;5;28;01massert\u001b[39;00m \u001b[38;5;28mself\u001b[39m\u001b[38;5;241m.\u001b[39mscreen \u001b[38;5;129;01mis\u001b[39;00m \u001b[38;5;129;01mnot\u001b[39;00m \u001b[38;5;28;01mNone\u001b[39;00m\n\u001b[0;32m-> 1073\u001b[0m     \u001b[38;5;28;43mself\u001b[39;49m\u001b[38;5;241;43m.\u001b[39;49m\u001b[43mscreen\u001b[49m\u001b[38;5;241;43m.\u001b[39;49m\u001b[43mblit\u001b[49m\u001b[43m(\u001b[49m\u001b[38;5;28;43mself\u001b[39;49m\u001b[38;5;241;43m.\u001b[39;49m\u001b[43msurf\u001b[49m\u001b[43m,\u001b[49m\u001b[43m \u001b[49m\u001b[43m(\u001b[49m\u001b[38;5;241;43m0\u001b[39;49m\u001b[43m,\u001b[49m\u001b[43m \u001b[49m\u001b[38;5;241;43m0\u001b[39;49m\u001b[43m)\u001b[49m\u001b[43m)\u001b[49m\n\u001b[1;32m   1074\u001b[0m     pygame\u001b[38;5;241m.\u001b[39mevent\u001b[38;5;241m.\u001b[39mpump()\n\u001b[1;32m   1075\u001b[0m     \u001b[38;5;28mself\u001b[39m\u001b[38;5;241m.\u001b[39mclock\u001b[38;5;241m.\u001b[39mtick(\u001b[38;5;28mself\u001b[39m\u001b[38;5;241m.\u001b[39mmetadata[\u001b[38;5;124m\"\u001b[39m\u001b[38;5;124mrender_fps\u001b[39m\u001b[38;5;124m\"\u001b[39m])\n",
      "\u001b[0;31merror\u001b[0m: display Surface quit"
     ]
    }
   ],
   "source": [
    "obs_buffer = []\n",
    "reward_buffer = []\n",
    "obs, _ = env.reset()\n",
    "obs_opp = env.obs_agent_two()\n",
    "\n",
    "done = False\n",
    "trunc = False\n",
    "step = 0\n",
    "while not (done or trunc):\n",
    "    step += 1\n",
    "    env.render()\n",
    "\n",
    "    a1_discr = agent_player.act(obs)\n",
    "    a1 = env.discrete_to_continous_action(a1_discr)\n",
    "    a2 = agent_opp_strong.act(obs_opp)\n",
    "\n",
    "    obs, r, done, trunc, info = env.step(np.hstack([a1, a2]))\n",
    "    obs_buffer.append(obs)\n",
    "    reward_buffer.append(r)\n",
    "\n",
    "    obs_opp = env.obs_agent_two()\n",
    "\n",
    "    if done or trunc:\n",
    "        print(f\"Episode done in {step} steps\")\n",
    "        winner = info[\"winner\"]\n",
    "        if winner == 0:\n",
    "            print(\"Draw\")\n",
    "        else:\n",
    "            print(f\"Winner: \" + (\"Player\" if winner == 1 else \"Opponent\"))\n",
    "        break"
   ]
  },
  {
   "cell_type": "code",
   "execution_count": 30,
   "metadata": {},
   "outputs": [],
   "source": [
    "env.close()"
   ]
  }
 ],
 "metadata": {
  "kernelspec": {
   "display_name": "rl",
   "language": "python",
   "name": "python3"
  },
  "language_info": {
   "codemirror_mode": {
    "name": "ipython",
    "version": 3
   },
   "file_extension": ".py",
   "mimetype": "text/x-python",
   "name": "python",
   "nbconvert_exporter": "python",
   "pygments_lexer": "ipython3",
   "version": "3.11.11"
  }
 },
 "nbformat": 4,
 "nbformat_minor": 2
}
