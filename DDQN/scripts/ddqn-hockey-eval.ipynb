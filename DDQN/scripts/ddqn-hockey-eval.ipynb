{
 "cells": [
  {
   "cell_type": "markdown",
   "metadata": {},
   "source": [
    "## DDQN in Hockey Enviroment - Evaluation\n",
    "\n",
    "Evaluate a trained DDQN against various environments\n",
    "\n",
    "Base DQN implementation adapted from HW7"
   ]
  },
  {
   "cell_type": "code",
   "execution_count": 2,
   "metadata": {},
   "outputs": [
    {
     "name": "stderr",
     "output_type": "stream",
     "text": [
      "/home/kivanc/miniconda3/envs/rl/lib/python3.11/site-packages/gymnasium/envs/registration.py:642: UserWarning: \u001b[33mWARN: Overriding environment Hockey-v0 already in registry.\u001b[0m\n",
      "  logger.warn(f\"Overriding environment {new_spec.id} already in registry.\")\n",
      "/home/kivanc/miniconda3/envs/rl/lib/python3.11/site-packages/gymnasium/envs/registration.py:642: UserWarning: \u001b[33mWARN: Overriding environment Hockey-One-v0 already in registry.\u001b[0m\n",
      "  logger.warn(f\"Overriding environment {new_spec.id} already in registry.\")\n"
     ]
    },
    {
     "data": {
      "text/plain": [
       "<module 'DDQN.DDQN' from '/home/kivanc/ders/RL/project/RL-Hockey/DDQN/DDQN.py'>"
      ]
     },
     "execution_count": 2,
     "metadata": {},
     "output_type": "execute_result"
    }
   ],
   "source": [
    "import os\n",
    "import sys\n",
    "from importlib import reload\n",
    "\n",
    "import numpy as np\n",
    "from tqdm.notebook import tqdm\n",
    "\n",
    "# Adding the parent directory to the path to enable importing\n",
    "root_dir = os.path.dirname(os.path.abspath(\"../\"))\n",
    "if root_dir not in sys.path:\n",
    "    sys.path.append(root_dir)\n",
    "\n",
    "import DDQN.DDQN as ddqn\n",
    "from DDQN.DDQN import DDQNAgent\n",
    "from DDQN.evaluation import compare_agents, display_stats\n",
    "import hockey.hockey_env as h_env\n",
    "\n",
    "reload(h_env)\n",
    "reload(ddqn)"
   ]
  },
  {
   "cell_type": "code",
   "execution_count": 3,
   "metadata": {},
   "outputs": [],
   "source": [
    "def running_mean(x, N):\n",
    "    cumsum = np.cumsum(np.insert(x, 0, 0)) \n",
    "    return (cumsum[N:] - cumsum[:-N]) / float(N)"
   ]
  },
  {
   "cell_type": "markdown",
   "metadata": {},
   "source": [
    "## Environment & Agent Initialization"
   ]
  },
  {
   "cell_type": "code",
   "execution_count": 4,
   "metadata": {},
   "outputs": [
    {
     "data": {
      "text/plain": [
       "(array([-3.        ,  0.        ,  0.        ,  0.        ,  0.        ,\n",
       "         0.        ,  3.        ,  0.        ,  0.        ,  0.        ,\n",
       "         0.        ,  0.        ,  1.75742769, -0.70681381,  0.        ,\n",
       "         0.        ,  0.        ,  0.        ]),\n",
       " {'winner': 0,\n",
       "  'reward_closeness_to_puck': 0.0,\n",
       "  'reward_touch_puck': 0.0,\n",
       "  'reward_puck_direction': 0.0})"
      ]
     },
     "execution_count": 4,
     "metadata": {},
     "output_type": "execute_result"
    }
   ],
   "source": [
    "env = h_env.HockeyEnv(mode=h_env.Mode.NORMAL)\n",
    "env.reset()"
   ]
  },
  {
   "cell_type": "code",
   "execution_count": null,
   "metadata": {},
   "outputs": [],
   "source": [
    "STATE_PATH = \"../models/hockey_mixed_dev/\"\n",
    "\n",
    "agent_player = DDQNAgent(\n",
    "    env.observation_space,\n",
    "    env.discrete_action_space,\n",
    "    hidden_sizes=[256, 256],\n",
    ")\n",
    "agent_player.load_state(STATE_PATH)\n",
    "\n",
    "agent_opp_weak = h_env.BasicOpponent(weak=True)\n",
    "agent_opp_strong = h_env.BasicOpponent(weak=False)"
   ]
  },
  {
   "cell_type": "markdown",
   "metadata": {},
   "source": [
    "## Evaluation"
   ]
  },
  {
   "cell_type": "markdown",
   "metadata": {},
   "source": [
    "### Winning Rates Against Opponents & Match Statistics"
   ]
  },
  {
   "cell_type": "code",
   "execution_count": 6,
   "metadata": {},
   "outputs": [
    {
     "data": {
      "application/vnd.jupyter.widget-view+json": {
       "model_id": "0e064e403a2c40f48771d8f4b6bf9fa2",
       "version_major": 2,
       "version_minor": 0
      },
      "text/plain": [
       "  0%|          | 0/1000 [00:00<?, ?it/s]"
      ]
     },
     "metadata": {},
     "output_type": "display_data"
    },
    {
     "data": {
      "application/vnd.jupyter.widget-view+json": {
       "model_id": "2133c674c4ea4112b6a78bdd3e5b7955",
       "version_major": 2,
       "version_minor": 0
      },
      "text/plain": [
       "  0%|          | 0/1000 [00:00<?, ?it/s]"
      ]
     },
     "metadata": {},
     "output_type": "display_data"
    }
   ],
   "source": [
    "weak_opp_stats = compare_agents(\n",
    "    agent_player, agent_opp_weak, env, num_matches=1000, tqdm=tqdm\n",
    ")\n",
    "strong_opp_stats = compare_agents(\n",
    "    agent_player, agent_opp_strong, env, num_matches=1000, tqdm=tqdm\n",
    ")"
   ]
  },
  {
   "cell_type": "code",
   "execution_count": 7,
   "metadata": {},
   "outputs": [
    {
     "name": "stdout",
     "output_type": "stream",
     "text": [
      "Weak Opponent Stats:\n",
      "Player Observation Mean:\n",
      "  x pos player one: -2.0549537832733447\n",
      "  y pos player one: -0.9174791878218195\n",
      "  angle player one: 0.02201530391115669\n",
      "  x vel player one: 0.35400822789872183\n",
      "  y vel player one: -0.5575216505351985\n",
      "  angular vel player one: 0.006990826031689874\n",
      "  x player two: 2.5092787907211473\n",
      "  y player two: 0.014472255215503474\n",
      "  angle player two: -0.001694797866540479\n",
      "  y vel player two: -0.019542543775540197\n",
      "  y vel player two: -0.01968256426456817\n",
      "  angular vel player two: -0.004213378888354722\n",
      "  x pos puck: -0.22512376772053289\n",
      "  y pos puck: -0.024328366624081478\n",
      "  x vel puck: -1.006091140812737\n",
      "  y vel puck: 0.0668359821028479\n",
      "  left player puck keep time: 0.7734816310524076\n",
      "  right player puck keep time: 0.7753506495673723\n",
      "\n",
      "Relative Std. Change in Agent Observations:\n",
      "  x pos player one: -0.057341693770048975\n",
      "  y pos player one: 0.5533949891603777\n",
      "  angle player one: 0.7598650992815751\n",
      "  x vel player one: -0.02615624890885328\n",
      "  y vel player one: 0.6724331951436532\n",
      "  angular vel player one: 0.7945743619898145\n",
      "  x player two: 0.05423194233984276\n",
      "  y player two: -1.2391150473658794\n",
      "  angle player two: -3.1643259559865915\n",
      "  y vel player two: 0.02548953820304277\n",
      "  y vel player two: -2.0528123887234133\n",
      "  angular vel player two: -3.867941556303782\n",
      "  x pos puck: 0.0\n",
      "  y pos puck: 0.0\n",
      "  x vel puck: 0.0\n",
      "  y vel puck: 0.0\n",
      "  left player puck keep time: -0.045521836160820534\n",
      "  right player puck keep time: 0.04353982345120378\n",
      "\n",
      "Player Win Rate:\n",
      "0.13\n",
      "\n",
      "Win Status (1 for win, 0 for draw, -1 for loss):\n",
      "  Mean: -0.512\n",
      "  Std: 0.7140420155705125\n",
      "\n",
      "Returns:\n",
      "  Player: -10875.067019899432\n",
      "  Opponent: 2159.318410078552\n",
      "  Difference: 13034.385429977985\n",
      "Strong Opponent Stats:\n",
      "Player Observation Mean:\n",
      "  x pos player one: -2.314149018486409\n",
      "  y pos player one: -0.5617567218662122\n",
      "  angle player one: 0.01196791105527674\n",
      "  x vel player one: 0.28155463481410214\n",
      "  y vel player one: -0.27318704787509906\n",
      "  angular vel player one: 0.05154833650423033\n",
      "  x player two: 2.5607958598043323\n",
      "  y player two: -0.06083724508411648\n",
      "  angle player two: 0.0017492868062636503\n",
      "  y vel player two: 0.01990940715435079\n",
      "  y vel player two: -0.02926018292803383\n",
      "  angular vel player two: -0.0022815678154125855\n",
      "  x pos puck: -0.289942763444032\n",
      "  y pos puck: -0.059989442319457714\n",
      "  x vel puck: -0.6807547644385213\n",
      "  y vel puck: 0.0525297328547886\n",
      "  left player puck keep time: 0.8249786689419796\n",
      "  right player puck keep time: 1.0765784982935154\n",
      "\n",
      "Relative Std. Change in Agent Observations:\n",
      "  x pos player one: -0.09877372726248825\n",
      "  y pos player one: 0.4484024493823076\n",
      "  angle player one: -0.05729401536241848\n",
      "  x vel player one: -0.18074049050266827\n",
      "  y vel player one: -0.24936728948615194\n",
      "  angular vel player one: 0.056022577507738855\n",
      "  x player two: 0.08989451131906433\n",
      "  y player two: -0.8129159545400003\n",
      "  angle player two: 0.05418929316721733\n",
      "  y vel player two: 0.15307384811180896\n",
      "  y vel player two: 0.19959486020216952\n",
      "  angular vel player two: -0.05934737015195735\n",
      "  x pos puck: 0.0\n",
      "  y pos puck: 0.0\n",
      "  x vel puck: 0.0\n",
      "  y vel puck: 0.0\n",
      "  left player puck keep time: -0.17885248675682822\n",
      "  right player puck keep time: 0.15171744452002978\n",
      "\n",
      "Player Win Rate:\n",
      "0.199\n",
      "\n",
      "Win Status (1 for win, 0 for draw, -1 for loss):\n",
      "  Mean: -0.341\n",
      "  Std: 0.7891254653095413\n",
      "\n",
      "Returns:\n",
      "  Player: -9957.419684721433\n",
      "  Opponent: 228.99212082365602\n",
      "  Difference: 10186.411805545089\n"
     ]
    }
   ],
   "source": [
    "print(\"Weak Opponent Stats:\")\n",
    "display_stats(weak_opp_stats)\n",
    "\n",
    "print(\"Strong Opponent Stats:\")\n",
    "display_stats(strong_opp_stats)"
   ]
  },
  {
   "cell_type": "markdown",
   "metadata": {},
   "source": [
    "### Rendered Demonstration Against Strong Opponent"
   ]
  },
  {
   "cell_type": "code",
   "execution_count": 8,
   "metadata": {},
   "outputs": [
    {
     "name": "stdout",
     "output_type": "stream",
     "text": [
      "Episode done in 70 steps\n"
     ]
    }
   ],
   "source": [
    "obs_buffer = []\n",
    "reward_buffer = []\n",
    "obs, _ = env.reset()\n",
    "obs_opp = env.obs_agent_two()\n",
    "\n",
    "done = False\n",
    "trunc = False\n",
    "step = 0\n",
    "while not (done or trunc):\n",
    "    step += 1\n",
    "    env.render()\n",
    "\n",
    "    a1_discr = agent_player.act(obs)\n",
    "    a1 = env.discrete_to_continous_action(a1_discr)\n",
    "    a2 = agent_opp_strong.act(obs_opp)\n",
    "\n",
    "    obs, r, done, trunc, _ = env.step(np.hstack([a1, a2]))\n",
    "    obs_buffer.append(obs)\n",
    "    reward_buffer.append(r)\n",
    "\n",
    "    obs_opp = env.obs_agent_two()\n",
    "\n",
    "    if done or trunc:\n",
    "        print(f\"Episode done in {step} steps\")\n",
    "        break"
   ]
  },
  {
   "cell_type": "code",
   "execution_count": 9,
   "metadata": {},
   "outputs": [],
   "source": [
    "env.close()"
   ]
  }
 ],
 "metadata": {
  "kernelspec": {
   "display_name": "rl",
   "language": "python",
   "name": "python3"
  },
  "language_info": {
   "codemirror_mode": {
    "name": "ipython",
    "version": 3
   },
   "file_extension": ".py",
   "mimetype": "text/x-python",
   "name": "python",
   "nbconvert_exporter": "python",
   "pygments_lexer": "ipython3",
   "version": "3.11.11"
  }
 },
 "nbformat": 4,
 "nbformat_minor": 2
}
