{
 "cells": [
  {
   "cell_type": "markdown",
   "metadata": {},
   "source": [
    "## DDQN in Hockey Enviroment - Evaluation\n",
    "\n",
    "Evaluate a trained DDQN against various environments\n",
    "\n",
    "Base DQN implementation adapted from HW7"
   ]
  },
  {
   "cell_type": "code",
   "execution_count": 13,
   "metadata": {},
   "outputs": [
    {
     "data": {
      "text/plain": [
       "<module 'DDQN.DDQN' from '/home/kivanc/ders/RL/project/RL-Hockey/DDQN/DDQN.py'>"
      ]
     },
     "execution_count": 13,
     "metadata": {},
     "output_type": "execute_result"
    }
   ],
   "source": [
    "from importlib import reload\n",
    "\n",
    "import numpy as np\n",
    "from tqdm.notebook import tqdm\n",
    "\n",
    "import DDQN.DDQN as ddqn\n",
    "from DDQN.DDQN import DDQNAgent\n",
    "from DDQN.evaluation import compare_agents, display_stats\n",
    "import hockey.hockey_env as h_env\n",
    "\n",
    "reload(h_env)\n",
    "reload(ddqn)"
   ]
  },
  {
   "cell_type": "code",
   "execution_count": 14,
   "metadata": {},
   "outputs": [],
   "source": [
    "def running_mean(x, N):\n",
    "    cumsum = np.cumsum(np.insert(x, 0, 0)) \n",
    "    return (cumsum[N:] - cumsum[:-N]) / float(N)"
   ]
  },
  {
   "cell_type": "markdown",
   "metadata": {},
   "source": [
    "## Environment & Agent Initialization"
   ]
  },
  {
   "cell_type": "code",
   "execution_count": 15,
   "metadata": {},
   "outputs": [
    {
     "data": {
      "text/plain": [
       "(array([-3.        ,  0.        ,  0.        ,  0.        ,  0.        ,\n",
       "         0.        ,  3.        ,  0.        ,  0.        ,  0.        ,\n",
       "         0.        ,  0.        ,  1.7543292 ,  0.03788853,  0.        ,\n",
       "         0.        ,  0.        ,  0.        ]),\n",
       " {'winner': 0,\n",
       "  'reward_closeness_to_puck': 0.0,\n",
       "  'reward_touch_puck': 0.0,\n",
       "  'reward_puck_direction': 0.0})"
      ]
     },
     "execution_count": 15,
     "metadata": {},
     "output_type": "execute_result"
    }
   ],
   "source": [
    "env = h_env.HockeyEnv(mode=h_env.Mode.NORMAL)\n",
    "env.reset()"
   ]
  },
  {
   "cell_type": "code",
   "execution_count": 16,
   "metadata": {},
   "outputs": [],
   "source": [
    "STATE_PATH = \"./DDQN/models/hockey_normal_dev/\"\n",
    "\n",
    "agent_player = DDQNAgent(\n",
    "    env.observation_space,\n",
    "    env.discrete_action_space\n",
    ")\n",
    "agent_player.load_state(STATE_PATH)\n",
    "\n",
    "agent_opp_weak = h_env.BasicOpponent(weak=True)\n",
    "agent_opp_strong = h_env.BasicOpponent(weak=False)"
   ]
  },
  {
   "cell_type": "markdown",
   "metadata": {},
   "source": [
    "## Evaluation"
   ]
  },
  {
   "cell_type": "markdown",
   "metadata": {},
   "source": [
    "### Winning Rates Against Opponents & Match Statistics"
   ]
  },
  {
   "cell_type": "code",
   "execution_count": 17,
   "metadata": {},
   "outputs": [
    {
     "data": {
      "application/vnd.jupyter.widget-view+json": {
       "model_id": "3969e85d5b7b48df9e90938efec0cdf1",
       "version_major": 2,
       "version_minor": 0
      },
      "text/plain": [
       "  0%|          | 0/1000 [00:00<?, ?it/s]"
      ]
     },
     "metadata": {},
     "output_type": "display_data"
    },
    {
     "data": {
      "application/vnd.jupyter.widget-view+json": {
       "model_id": "aa1b90ddcc20491fb144331e5aaf35ab",
       "version_major": 2,
       "version_minor": 0
      },
      "text/plain": [
       "  0%|          | 0/1000 [00:00<?, ?it/s]"
      ]
     },
     "metadata": {},
     "output_type": "display_data"
    }
   ],
   "source": [
    "weak_opp_stats = compare_agents(\n",
    "    agent_player, agent_opp_weak, env, num_matches=1000, tqdm=tqdm\n",
    ")\n",
    "strong_opp_stats = compare_agents(\n",
    "    agent_player, agent_opp_strong, env, num_matches=1000, tqdm=tqdm\n",
    ")"
   ]
  },
  {
   "cell_type": "code",
   "execution_count": 18,
   "metadata": {},
   "outputs": [
    {
     "name": "stdout",
     "output_type": "stream",
     "text": [
      "Weak Opponent Stats:\n",
      "Player Observation Mean:\n",
      "  x pos player one: -1.3339319781093817\n",
      "  y pos player one: -0.6117579154434678\n",
      "  angle player one: -0.0904754886006979\n",
      "  x vel player one: 0.8691245156979047\n",
      "  y vel player one: -0.5099625184104828\n",
      "  angular vel player one: -0.09411099712039225\n",
      "  x player two: 2.5580066272558577\n",
      "  y player two: 0.06302552246696394\n",
      "  angle player two: -0.004924118873475803\n",
      "  y vel player two: -0.06429875971180268\n",
      "  y vel player two: -0.024798722600795024\n",
      "  angular vel player two: -0.0018472111019365853\n",
      "  x pos puck: -0.07213065247695523\n",
      "  y pos puck: 0.11566362079153174\n",
      "  x vel puck: -1.1673583811750676\n",
      "  y vel puck: 0.08016062137701138\n",
      "  left player puck keep time: 0.9419729747348228\n",
      "  right player puck keep time: 0.9132900606252503\n",
      "\n",
      "Relative Std. Change in Agent Observations:\n",
      "  x pos player one: -0.14199693003479125\n",
      "  y pos player one: 0.5632918792660615\n",
      "  angle player one: 0.771831603701401\n",
      "  x vel player one: -0.21203642040755127\n",
      "  y vel player one: 0.6262955754104523\n",
      "  angular vel player one: 0.8785632849826757\n",
      "  x player two: 0.12434090346500781\n",
      "  y player two: -1.2898589527471673\n",
      "  angle player two: -3.3827279159701065\n",
      "  y vel player two: 0.17494228460251493\n",
      "  y vel player two: -1.6759115873416113\n",
      "  angular vel player two: -7.234741855931616\n",
      "  x pos puck: 0.0\n",
      "  y pos puck: 0.0\n",
      "  x vel puck: 0.0\n",
      "  y vel puck: 0.0\n",
      "  left player puck keep time: -0.03051677485162761\n",
      "  right player puck keep time: 0.02961307918157991\n",
      "\n",
      "Player Win Rate:\n",
      "0.148\n",
      "\n",
      "Win Status (1 for win, 0 for draw, -1 for loss):\n",
      "  Mean: -0.53\n",
      "  Std: 0.7383088784512889\n",
      "\n",
      "Returns:\n",
      "  Player: -8923.876271646102\n",
      "  Opponent: 2322.652722832722\n",
      "  Difference: -11246.528994478824\n",
      "Strong Opponent Stats:\n",
      "Player Observation Mean:\n",
      "  x pos player one: -1.2551204491258834\n",
      "  y pos player one: -0.8389008321788785\n",
      "  angle player one: -0.057309784772690046\n",
      "  x vel player one: 0.7620053993756413\n",
      "  y vel player one: -0.3087706297579413\n",
      "  angular vel player one: -0.037221719738948576\n",
      "  x player two: 2.6545150758159775\n",
      "  y player two: -0.051128063029805756\n",
      "  angle player two: 0.0018984179556111708\n",
      "  y vel player two: 0.027179184473377284\n",
      "  y vel player two: -0.02502094150724584\n",
      "  angular vel player two: -0.008194659747848042\n",
      "  x pos puck: -0.13144848853355962\n",
      "  y pos puck: -0.02032361883522479\n",
      "  x vel puck: -0.6747674001235106\n",
      "  y vel puck: 0.0836410250362312\n",
      "  left player puck keep time: 0.9187469293217603\n",
      "  right player puck keep time: 1.0505813817467187\n",
      "\n",
      "Relative Std. Change in Agent Observations:\n",
      "  x pos player one: -0.286607810939072\n",
      "  y pos player one: 0.2932280396536752\n",
      "  angle player one: -0.00619446587914641\n",
      "  x vel player one: -0.3889294576025532\n",
      "  y vel player one: -0.23563425760629506\n",
      "  angular vel player one: 0.4025499036146658\n",
      "  x player two: 0.2227623744409589\n",
      "  y player two: -0.4148835212845609\n",
      "  angle player two: 0.006156330698692617\n",
      "  y vel player two: 0.2800210302068823\n",
      "  y vel player two: 0.19069903262699456\n",
      "  angular vel player two: -0.673779962628101\n",
      "  x pos puck: 0.0\n",
      "  y pos puck: 0.0\n",
      "  x vel puck: 0.0\n",
      "  y vel puck: 0.0\n",
      "  left player puck keep time: -0.11035408800294573\n",
      "  right player puck keep time: 0.09938639321932498\n",
      "\n",
      "Player Win Rate:\n",
      "0.223\n",
      "\n",
      "Win Status (1 for win, 0 for draw, -1 for loss):\n",
      "  Mean: -0.325\n",
      "  Std: 0.8157052163618914\n",
      "\n",
      "Returns:\n",
      "  Player: -7844.9778449964515\n",
      "  Opponent: -135.37120927479992\n",
      "  Difference: -7709.606635721651\n"
     ]
    }
   ],
   "source": [
    "print(\"Weak Opponent Stats:\")\n",
    "display_stats(weak_opp_stats)\n",
    "\n",
    "print(\"Strong Opponent Stats:\")\n",
    "display_stats(strong_opp_stats)"
   ]
  },
  {
   "cell_type": "markdown",
   "metadata": {},
   "source": [
    "### Rendered Demonstration Against Strong Opponent"
   ]
  },
  {
   "cell_type": "code",
   "execution_count": null,
   "metadata": {},
   "outputs": [],
   "source": [
    "obs_buffer = []\n",
    "reward_buffer = []\n",
    "obs, _ = env.reset()\n",
    "obs_opp = env.obs_agent_two()\n",
    "\n",
    "done = False\n",
    "trunc = False\n",
    "step = 0\n",
    "while not (done or trunc):\n",
    "    step += 1\n",
    "    env.render()\n",
    "\n",
    "    a1_discr = agent_player.act(obs)\n",
    "    a1 = env.discrete_to_continous_action(a1_discr)\n",
    "    a2 = agent_opp_strong.act(obs_opp)\n",
    "\n",
    "    obs, r, done, trunc, _ = env.step(np.hstack([a1, a2]))\n",
    "    obs_buffer.append(obs)\n",
    "    reward_buffer.append(r)\n",
    "\n",
    "    obs_opp = env.obs_agent_two()\n",
    "\n",
    "    if done or trunc:\n",
    "        print(f\"Episode done in {step} steps\")\n",
    "        break"
   ]
  },
  {
   "cell_type": "code",
   "execution_count": null,
   "metadata": {},
   "outputs": [],
   "source": [
    "env.close()"
   ]
  }
 ],
 "metadata": {
  "kernelspec": {
   "display_name": "rl",
   "language": "python",
   "name": "python3"
  },
  "language_info": {
   "codemirror_mode": {
    "name": "ipython",
    "version": 3
   },
   "file_extension": ".py",
   "mimetype": "text/x-python",
   "name": "python",
   "nbconvert_exporter": "python",
   "pygments_lexer": "ipython3",
   "version": "3.11.11"
  }
 },
 "nbformat": 4,
 "nbformat_minor": 2
}
