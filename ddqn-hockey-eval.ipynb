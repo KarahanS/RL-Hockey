{
 "cells": [
  {
   "cell_type": "markdown",
   "metadata": {},
   "source": [
    "## DDQN in Hockey Enviroment - Evaluation\n",
    "\n",
    "Evaluate a trained DDQN against various environments\n",
    "\n",
    "Base DQN implementation adapted from HW7"
   ]
  },
  {
   "cell_type": "code",
   "execution_count": 6,
   "metadata": {},
   "outputs": [
    {
     "name": "stderr",
     "output_type": "stream",
     "text": [
      "/home/kivanc/miniconda3/envs/rl/lib/python3.11/site-packages/gymnasium/envs/registration.py:642: UserWarning: \u001b[33mWARN: Overriding environment Hockey-v0 already in registry.\u001b[0m\n",
      "  logger.warn(f\"Overriding environment {new_spec.id} already in registry.\")\n",
      "/home/kivanc/miniconda3/envs/rl/lib/python3.11/site-packages/gymnasium/envs/registration.py:642: UserWarning: \u001b[33mWARN: Overriding environment Hockey-One-v0 already in registry.\u001b[0m\n",
      "  logger.warn(f\"Overriding environment {new_spec.id} already in registry.\")\n"
     ]
    },
    {
     "data": {
      "text/plain": [
       "<module 'DDQN.DDQN' from '/home/kivanc/ders/RL/project/RL-Hockey/DDQN/DDQN.py'>"
      ]
     },
     "execution_count": 6,
     "metadata": {},
     "output_type": "execute_result"
    }
   ],
   "source": [
    "from importlib import reload\n",
    "\n",
    "import numpy as np\n",
    "from tqdm.notebook import tqdm\n",
    "\n",
    "import DDQN.DDQN as ddqn\n",
    "from DDQN.DDQN import DDQNAgent\n",
    "from DDQN.evaluation import compare_agents, display_stats\n",
    "import hockey.hockey_env as h_env\n",
    "\n",
    "reload(h_env)\n",
    "reload(ddqn)"
   ]
  },
  {
   "cell_type": "code",
   "execution_count": 7,
   "metadata": {},
   "outputs": [],
   "source": [
    "def running_mean(x, N):\n",
    "    cumsum = np.cumsum(np.insert(x, 0, 0)) \n",
    "    return (cumsum[N:] - cumsum[:-N]) / float(N)"
   ]
  },
  {
   "cell_type": "markdown",
   "metadata": {},
   "source": [
    "## Environment & Agent Initialization"
   ]
  },
  {
   "cell_type": "code",
   "execution_count": 8,
   "metadata": {},
   "outputs": [
    {
     "data": {
      "text/plain": [
       "(array([-3.        ,  0.        ,  0.        ,  0.        ,  0.        ,\n",
       "         0.        ,  3.        ,  0.        ,  0.        ,  0.        ,\n",
       "         0.        ,  0.        ,  1.41269159,  0.46165037,  0.        ,\n",
       "         0.        ,  0.        ,  0.        ]),\n",
       " {'winner': 0,\n",
       "  'reward_closeness_to_puck': 0.0,\n",
       "  'reward_touch_puck': 0.0,\n",
       "  'reward_puck_direction': 0.0})"
      ]
     },
     "execution_count": 8,
     "metadata": {},
     "output_type": "execute_result"
    }
   ],
   "source": [
    "env = h_env.HockeyEnv(mode=h_env.Mode.NORMAL)\n",
    "env.reset()"
   ]
  },
  {
   "cell_type": "code",
   "execution_count": 10,
   "metadata": {},
   "outputs": [],
   "source": [
    "STATE_PATH = \"./DDQN/models/hockey_normal_dev/\"\n",
    "\n",
    "agent_player = DDQNAgent(\n",
    "    env.observation_space,\n",
    "    env.discrete_action_space\n",
    ")\n",
    "agent_player.load_state(STATE_PATH)\n",
    "\n",
    "agent_opp_weak = h_env.BasicOpponent(weak=True)\n",
    "agent_opp_strong = h_env.BasicOpponent(weak=False)"
   ]
  },
  {
   "cell_type": "markdown",
   "metadata": {},
   "source": [
    "## Evaluation"
   ]
  },
  {
   "cell_type": "markdown",
   "metadata": {},
   "source": [
    "### Winning Rates Against Opponents & Match Statistics"
   ]
  },
  {
   "cell_type": "code",
   "execution_count": 11,
   "metadata": {},
   "outputs": [
    {
     "data": {
      "application/vnd.jupyter.widget-view+json": {
       "model_id": "c6c9fcddf18b4125a8f491983b537230",
       "version_major": 2,
       "version_minor": 0
      },
      "text/plain": [
       "  0%|          | 0/1000 [00:00<?, ?it/s]"
      ]
     },
     "metadata": {},
     "output_type": "display_data"
    },
    {
     "data": {
      "application/vnd.jupyter.widget-view+json": {
       "model_id": "8abdfdc69e064d34aee7d7f1d56312d0",
       "version_major": 2,
       "version_minor": 0
      },
      "text/plain": [
       "  0%|          | 0/1000 [00:00<?, ?it/s]"
      ]
     },
     "metadata": {},
     "output_type": "display_data"
    },
    {
     "name": "stdout",
     "output_type": "stream",
     "text": [
      "Weak Opponent Stats:\n",
      "Player Observation Mean:\n",
      "  x pos player one: -1.341544129920022\n",
      "  y pos player one: -0.5941261902834267\n",
      "  angle player one: -0.07263824568604207\n",
      "  x vel player one: 0.8476032633522432\n",
      "  y vel player one: -0.46109484363481845\n",
      "  angular vel player one: -0.09071381830290962\n",
      "  x player two: 2.581570860655187\n",
      "  y player two: 0.067045480248056\n",
      "  angle player two: -0.008268813406722936\n",
      "  y vel player two: -0.0728967898016591\n",
      "  y vel player two: -0.003303426745194766\n",
      "  angular vel player two: 0.00330208470724013\n",
      "  x pos puck: -0.05532382758773605\n",
      "  y pos puck: 0.14756710077422897\n",
      "  x vel puck: -1.1185261813095293\n",
      "  y vel puck: 0.06893878195582148\n",
      "  left player puck keep time: 0.8867102396514162\n",
      "  right player puck keep time: 0.8948481353325644\n",
      "\n",
      "Relative Std. Change in Agent Observations:\n",
      "  x pos player one: -0.1401811667498876\n",
      "  y pos player one: 0.5784090744911511\n",
      "  angle player one: 0.7725071652330459\n",
      "  x vel player one: -0.18573885630187922\n",
      "  y vel player one: 0.6229716372329134\n",
      "  angular vel player one: 0.8803650565009045\n",
      "  x player two: 0.12294639732515246\n",
      "  y player two: -1.371967562615412\n",
      "  angle player two: -3.3957428418543802\n",
      "  y vel player two: 0.1566439822012476\n",
      "  y vel player two: -1.6523203524021373\n",
      "  angular vel player two: -7.358761836231902\n",
      "  x pos puck: 0.0\n",
      "  y pos puck: 0.0\n",
      "  x vel puck: 0.0\n",
      "  y vel puck: 0.0\n",
      "  left player puck keep time: -0.049242680513661104\n",
      "  right player puck keep time: 0.04693164072353037\n",
      "\n",
      "Player Win Rate:\n",
      "0.141\n",
      "\n",
      "Win Status (1 for win, 0 for draw, -1 for loss):\n",
      "  Mean: -0.521\n",
      "  Std: 0.7290809282926004\n",
      "\n",
      "Returns:\n",
      "  Player: -8837.257147050934\n",
      "  Opponent: 2158.5136078763558\n",
      "  Difference: -10995.770754927289\n",
      "Strong Opponent Stats:\n",
      "Player Observation Mean:\n",
      "  x pos player one: -1.268397277896892\n",
      "  y pos player one: -0.8625452984403379\n",
      "  angle player one: -0.05037183786686631\n",
      "  x vel player one: 0.7693812405085896\n",
      "  y vel player one: -0.34058696542725037\n",
      "  angular vel player one: -0.05365944798874775\n",
      "  x player two: 2.6907053619695844\n",
      "  y player two: -0.04110771087162385\n",
      "  angle player two: 0.00032476107812398554\n",
      "  y vel player two: 0.025755458279505265\n",
      "  y vel player two: -0.033629136038892525\n",
      "  angular vel player two: -0.0064744200705916825\n",
      "  x pos puck: -0.052142683711132114\n",
      "  y pos puck: -0.03027327435957911\n",
      "  x vel puck: -0.6254964270192221\n",
      "  y vel puck: 0.09531447783745832\n",
      "  left player puck keep time: 0.9184133869486749\n",
      "  right player puck keep time: 1.084642054269702\n",
      "\n",
      "Relative Std. Change in Agent Observations:\n",
      "  x pos player one: -0.23727511862994063\n",
      "  y pos player one: 0.30333040862164\n",
      "  angle player one: -0.004865631204363074\n",
      "  x vel player one: -0.3882631769365221\n",
      "  y vel player one: -0.23891014185349174\n",
      "  angular vel player one: 0.37406106011180607\n",
      "  x player two: 0.19177231891051044\n",
      "  y player two: -0.43540067253617476\n",
      "  angle player two: 0.004842071470323312\n",
      "  y vel player two: 0.2796754847256712\n",
      "  y vel player two: 0.19283895884173352\n",
      "  angular vel player two: -0.5975999195362752\n",
      "  x pos puck: 0.0\n",
      "  y pos puck: 0.0\n",
      "  x vel puck: 0.0\n",
      "  y vel puck: 0.0\n",
      "  left player puck keep time: -0.1265157075178688\n",
      "  right player puck keep time: 0.11230709582969753\n",
      "\n",
      "Player Win Rate:\n",
      "0.251\n",
      "\n",
      "Win Status (1 for win, 0 for draw, -1 for loss):\n",
      "  Mean: -0.281\n",
      "  Std: 0.8390703188648734\n",
      "\n",
      "Returns:\n",
      "  Player: -7046.447792907691\n",
      "  Opponent: -890.9716613115023\n",
      "  Difference: -6155.476131596189\n"
     ]
    }
   ],
   "source": [
    "weak_opp_stats = compare_agents(\n",
    "    agent_player, agent_opp_weak, env, num_matches=1000, tqdm=tqdm\n",
    ")\n",
    "strong_opp_stats = compare_agents(\n",
    "    agent_player, agent_opp_strong, env, num_matches=1000, tqdm=tqdm\n",
    ")\n",
    "\n",
    "print(\"Weak Opponent Stats:\")\n",
    "display_stats(weak_opp_stats)\n",
    "print(\"Strong Opponent Stats:\")\n",
    "display_stats(strong_opp_stats)"
   ]
  },
  {
   "cell_type": "markdown",
   "metadata": {},
   "source": [
    "### Rendered Demonstration Against Strong Opponent"
   ]
  },
  {
   "cell_type": "code",
   "execution_count": null,
   "metadata": {},
   "outputs": [
    {
     "name": "stdout",
     "output_type": "stream",
     "text": [
      "Episode done in 171 steps\n"
     ]
    }
   ],
   "source": [
    "obs_buffer = []\n",
    "reward_buffer = []\n",
    "obs, _ = env.reset()\n",
    "obs_opp = env.obs_agent_two()\n",
    "\n",
    "done = False\n",
    "trunc = False\n",
    "step = 0\n",
    "while not (done or trunc):\n",
    "    step += 1\n",
    "    env.render()\n",
    "\n",
    "    a1_discr = agent_player.act(obs)\n",
    "    a1 = env.discrete_to_continous_action(a1_discr)\n",
    "    a2 = agent_opp_strong.act(obs_opp)\n",
    "\n",
    "    obs, r, done, trunc, _ = env.step(np.hstack([a1, a2]))\n",
    "    obs_buffer.append(obs)\n",
    "    reward_buffer.append(r)\n",
    "\n",
    "    obs_opp = env.obs_agent_two()\n",
    "\n",
    "    if done or trunc:\n",
    "        print(f\"Episode done in {step} steps\")\n",
    "        break"
   ]
  },
  {
   "cell_type": "code",
   "execution_count": null,
   "metadata": {},
   "outputs": [],
   "source": [
    "env.close()"
   ]
  }
 ],
 "metadata": {
  "kernelspec": {
   "display_name": "rl",
   "language": "python",
   "name": "python3"
  },
  "language_info": {
   "codemirror_mode": {
    "name": "ipython",
    "version": 3
   },
   "file_extension": ".py",
   "mimetype": "text/x-python",
   "name": "python",
   "nbconvert_exporter": "python",
   "pygments_lexer": "ipython3",
   "version": "3.11.11"
  }
 },
 "nbformat": 4,
 "nbformat_minor": 2
}
