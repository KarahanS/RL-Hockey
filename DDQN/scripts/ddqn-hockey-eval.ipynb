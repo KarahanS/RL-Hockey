{
 "cells": [
  {
   "cell_type": "markdown",
   "metadata": {},
   "source": [
    "## DDQN in Hockey Enviroment - Evaluation\n",
    "\n",
    "Evaluate a trained DDQN against various environments\n",
    "\n",
    "Base DQN implementation adapted from HW7"
   ]
  },
  {
   "cell_type": "code",
   "execution_count": 1,
   "metadata": {},
   "outputs": [
    {
     "name": "stderr",
     "output_type": "stream",
     "text": [
      "/home/kivanc/miniconda3/envs/rl/lib/python3.11/site-packages/gymnasium/envs/registration.py:642: UserWarning: \u001b[33mWARN: Overriding environment Hockey-v0 already in registry.\u001b[0m\n",
      "  logger.warn(f\"Overriding environment {new_spec.id} already in registry.\")\n",
      "/home/kivanc/miniconda3/envs/rl/lib/python3.11/site-packages/gymnasium/envs/registration.py:642: UserWarning: \u001b[33mWARN: Overriding environment Hockey-One-v0 already in registry.\u001b[0m\n",
      "  logger.warn(f\"Overriding environment {new_spec.id} already in registry.\")\n"
     ]
    },
    {
     "data": {
      "text/plain": [
       "<module 'DDQN.DDQN' from '/home/kivanc/ders/RL/project/RL-Hockey/DDQN/DDQN.py'>"
      ]
     },
     "execution_count": 1,
     "metadata": {},
     "output_type": "execute_result"
    }
   ],
   "source": [
    "import os\n",
    "import sys\n",
    "from importlib import reload\n",
    "\n",
    "import numpy as np\n",
    "from tqdm.notebook import tqdm\n",
    "\n",
    "# Adding the parent directory to the path to enable importing\n",
    "root_dir = os.path.dirname(os.path.abspath(\"../\"))\n",
    "if root_dir not in sys.path:\n",
    "    sys.path.append(root_dir)\n",
    "\n",
    "import DDQN.DDQN as ddqn\n",
    "from DDQN.DDQN import DuelingDQNAgent\n",
    "from DDQN.evaluation import compare_agents, display_stats\n",
    "import hockey.hockey_env as h_env\n",
    "\n",
    "reload(h_env)\n",
    "reload(ddqn)"
   ]
  },
  {
   "cell_type": "code",
   "execution_count": 2,
   "metadata": {},
   "outputs": [],
   "source": [
    "def running_mean(x, N):\n",
    "    cumsum = np.cumsum(np.insert(x, 0, 0)) \n",
    "    return (cumsum[N:] - cumsum[:-N]) / float(N)"
   ]
  },
  {
   "cell_type": "markdown",
   "metadata": {},
   "source": [
    "## Environment & Agent Initialization"
   ]
  },
  {
   "cell_type": "code",
   "execution_count": 3,
   "metadata": {},
   "outputs": [
    {
     "data": {
      "text/plain": [
       "(array([-3.        ,  0.        ,  0.        ,  0.        ,  0.        ,\n",
       "         0.        ,  3.        ,  0.        ,  0.        ,  0.        ,\n",
       "         0.        ,  0.        ,  1.57698822,  0.72862673,  0.        ,\n",
       "         0.        ,  0.        ,  0.        ]),\n",
       " {'winner': 0,\n",
       "  'reward_closeness_to_puck': 0.0,\n",
       "  'reward_touch_puck': 0.0,\n",
       "  'reward_puck_direction': 0.0})"
      ]
     },
     "execution_count": 3,
     "metadata": {},
     "output_type": "execute_result"
    }
   ],
   "source": [
    "env = h_env.HockeyEnv(mode=h_env.Mode.NORMAL)\n",
    "env.reset()"
   ]
  },
  {
   "cell_type": "code",
   "execution_count": 4,
   "metadata": {},
   "outputs": [],
   "source": [
    "STATE_PATH = \"../models/hockey_mixed_dev/\"\n",
    "\n",
    "agent_player = DuelingDQNAgent(\n",
    "    env.observation_space,\n",
    "    env.discrete_action_space,\n",
    "    hidden_sizes=[256, 256],\n",
    ")\n",
    "agent_player.load_state(STATE_PATH)\n",
    "\n",
    "agent_opp_weak = h_env.BasicOpponent(weak=True)\n",
    "agent_opp_strong = h_env.BasicOpponent(weak=False)"
   ]
  },
  {
   "cell_type": "markdown",
   "metadata": {},
   "source": [
    "## Evaluation"
   ]
  },
  {
   "cell_type": "markdown",
   "metadata": {},
   "source": [
    "### Winning Rates Against Opponents & Match Statistics"
   ]
  },
  {
   "cell_type": "code",
   "execution_count": 5,
   "metadata": {},
   "outputs": [
    {
     "data": {
      "application/vnd.jupyter.widget-view+json": {
       "model_id": "8285cc3275fa42fb815e1dba4d313dc1",
       "version_major": 2,
       "version_minor": 0
      },
      "text/plain": [
       "  0%|          | 0/1000 [00:00<?, ?it/s]"
      ]
     },
     "metadata": {},
     "output_type": "display_data"
    },
    {
     "data": {
      "application/vnd.jupyter.widget-view+json": {
       "model_id": "b615308032d04c759258d18bdee580d1",
       "version_major": 2,
       "version_minor": 0
      },
      "text/plain": [
       "  0%|          | 0/1000 [00:00<?, ?it/s]"
      ]
     },
     "metadata": {},
     "output_type": "display_data"
    }
   ],
   "source": [
    "weak_opp_stats = compare_agents(\n",
    "    agent_player, agent_opp_weak, env, num_matches=1000, tqdm=tqdm\n",
    ")\n",
    "strong_opp_stats = compare_agents(\n",
    "    agent_player, agent_opp_strong, env, num_matches=1000, tqdm=tqdm\n",
    ")"
   ]
  },
  {
   "cell_type": "code",
   "execution_count": 6,
   "metadata": {},
   "outputs": [
    {
     "name": "stdout",
     "output_type": "stream",
     "text": [
      "########################################\n",
      "Stats Against Weak Opponent:\n",
      "Player Observation Mean:\n",
      "  x pos player one: -2.0440269768503874\n",
      "  y pos player one: 0.004576087458980476\n",
      "  angle player one: -0.009205523992135832\n",
      "  x vel player one: 0.4126231353362218\n",
      "  y vel player one: -0.05830181658017967\n",
      "  angular vel player one: 0.008531989861695077\n",
      "  x player two: 2.675923206910976\n",
      "  y player two: 0.017140769690138367\n",
      "  angle player two: -0.006100770133496\n",
      "  y vel player two: 0.009538306898026094\n",
      "  y vel player two: 0.0019467434421993387\n",
      "  angular vel player two: -0.0003301826760893594\n",
      "  x pos puck: -0.1152260440873716\n",
      "  y pos puck: -0.009109355148699982\n",
      "  x vel puck: -0.9357098459935692\n",
      "  y vel puck: 0.006792591175240485\n",
      "  left player puck keep time: 0.8244170547483092\n",
      "  right player puck keep time: 0.8190031101383929\n",
      "\n",
      "Relative Std. Change in Agent Observations:\n",
      "  x pos player one: 0.0480672074684908\n",
      "  y pos player one: 0.5682092812960798\n",
      "  angle player one: 0.7653761394465192\n",
      "  x vel player one: -0.07634304832844767\n",
      "  y vel player one: 0.6282712329403095\n",
      "  angular vel player one: 0.8504669954294014\n",
      "  x player two: -0.0504943288492709\n",
      "  y player two: -1.3159367644622817\n",
      "  angle player two: -3.262141103811807\n",
      "  y vel player two: 0.0709281752197943\n",
      "  y vel player two: -1.6901334753019652\n",
      "  angular vel player two: -5.687486838585348\n",
      "  x pos puck: 0.0\n",
      "  y pos puck: 0.0\n",
      "  x vel puck: 0.0\n",
      "  y vel puck: 0.0\n",
      "  left player puck keep time: -0.0414182257251796\n",
      "  right player puck keep time: 0.039770982206825206\n",
      "\n",
      "Player Win Rate:\n",
      "0.134\n",
      "\n",
      "Win Status (1 for win, 0 for draw, -1 for loss):\n",
      "  Mean: -0.501\n",
      "  Std: 0.71972147390501\n",
      "\n",
      "Returns:\n",
      "  Player: -9906.002441126933\n",
      "  Opponent: 1677.352011439802\n",
      "  Difference: 11583.354452566735\n",
      "########################################\n",
      "Stats Against Strong Opponent:\n",
      "Player Observation Mean:\n",
      "  x pos player one: -2.1313674896663626\n",
      "  y pos player one: 0.327301761664067\n",
      "  angle player one: -0.0896369908754887\n",
      "  x vel player one: 0.353336621785846\n",
      "  y vel player one: 0.15372596549536113\n",
      "  angular vel player one: -0.027988094518159656\n",
      "  x player two: 2.7440431596288644\n",
      "  y player two: 0.0049239882279944885\n",
      "  angle player two: 0.0007488942376510038\n",
      "  y vel player two: 0.04630467894412375\n",
      "  y vel player two: 0.016156224582399396\n",
      "  angular vel player two: -0.013163145424405585\n",
      "  x pos puck: -0.14758501506527769\n",
      "  y pos puck: 0.03511571401887509\n",
      "  x vel puck: -0.55725038154971\n",
      "  y vel puck: -0.004143609158153987\n",
      "  left player puck keep time: 0.8577431784673898\n",
      "  right player puck keep time: 1.0604625323181458\n",
      "\n",
      "Relative Std. Change in Agent Observations:\n",
      "  x pos player one: 0.010832510952829109\n",
      "  y pos player one: 0.5082581605964702\n",
      "  angle player one: -0.05110624576980393\n",
      "  x vel player one: -0.14520190780868994\n",
      "  y vel player one: -0.2648633279369397\n",
      "  angular vel player one: 0.18889311466020153\n",
      "  x player two: -0.010951139289124508\n",
      "  y player two: -1.033587382381321\n",
      "  angle player two: 0.048621389108362674\n",
      "  y vel player two: 0.12679153502855187\n",
      "  y vel player two: 0.20940074875041723\n",
      "  angular vel player two: -0.23288313547118786\n",
      "  x pos puck: 0.0\n",
      "  y pos puck: 0.0\n",
      "  x vel puck: 0.0\n",
      "  y vel puck: 0.0\n",
      "  left player puck keep time: -0.1503047813661476\n",
      "  right player puck keep time: 0.130665180047013\n",
      "\n",
      "Player Win Rate:\n",
      "0.231\n",
      "\n",
      "Win Status (1 for win, 0 for draw, -1 for loss):\n",
      "  Mean: -0.282\n",
      "  Std: 0.8151539731854344\n",
      "\n",
      "Returns:\n",
      "  Player: -8213.839161295147\n",
      "  Opponent: -939.0827901005018\n",
      "  Difference: 7274.756371194646\n"
     ]
    }
   ],
   "source": [
    "print(\"#\" * 40)\n",
    "print(\"Stats Against Weak Opponent:\")\n",
    "display_stats(weak_opp_stats)\n",
    "\n",
    "print(\"#\" * 40)\n",
    "print(\"Stats Against Strong Opponent:\")\n",
    "display_stats(strong_opp_stats)"
   ]
  },
  {
   "cell_type": "markdown",
   "metadata": {},
   "source": [
    "### Rendered Demonstration Against Strong Opponent"
   ]
  },
  {
   "cell_type": "code",
   "execution_count": 7,
   "metadata": {},
   "outputs": [
    {
     "name": "stdout",
     "output_type": "stream",
     "text": [
      "Episode done in 206 steps\n"
     ]
    }
   ],
   "source": [
    "obs_buffer = []\n",
    "reward_buffer = []\n",
    "obs, _ = env.reset()\n",
    "obs_opp = env.obs_agent_two()\n",
    "\n",
    "done = False\n",
    "trunc = False\n",
    "step = 0\n",
    "while not (done or trunc):\n",
    "    step += 1\n",
    "    env.render()\n",
    "\n",
    "    a1_discr = agent_player.act(obs)\n",
    "    a1 = env.discrete_to_continous_action(a1_discr)\n",
    "    a2 = agent_opp_strong.act(obs_opp)\n",
    "\n",
    "    obs, r, done, trunc, _ = env.step(np.hstack([a1, a2]))\n",
    "    obs_buffer.append(obs)\n",
    "    reward_buffer.append(r)\n",
    "\n",
    "    obs_opp = env.obs_agent_two()\n",
    "\n",
    "    if done or trunc:\n",
    "        print(f\"Episode done in {step} steps\")\n",
    "        break"
   ]
  },
  {
   "cell_type": "code",
   "execution_count": 8,
   "metadata": {},
   "outputs": [],
   "source": [
    "env.close()"
   ]
  }
 ],
 "metadata": {
  "kernelspec": {
   "display_name": "rl",
   "language": "python",
   "name": "python3"
  },
  "language_info": {
   "codemirror_mode": {
    "name": "ipython",
    "version": 3
   },
   "file_extension": ".py",
   "mimetype": "text/x-python",
   "name": "python",
   "nbconvert_exporter": "python",
   "pygments_lexer": "ipython3",
   "version": "3.11.11"
  }
 },
 "nbformat": 4,
 "nbformat_minor": 2
}
