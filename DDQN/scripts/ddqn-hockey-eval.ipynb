{
 "cells": [
  {
   "cell_type": "markdown",
   "metadata": {},
   "source": [
    "## DDQN in Hockey Enviroment - Evaluation\n",
    "\n",
    "Evaluate a trained DDQN against various environments\n",
    "\n",
    "Base DQN implementation adapted from HW7"
   ]
  },
  {
   "cell_type": "code",
   "execution_count": null,
   "metadata": {},
   "outputs": [],
   "source": [
    "import os\n",
    "import sys\n",
    "from importlib import reload\n",
    "\n",
    "import numpy as np\n",
    "from tqdm.notebook import tqdm\n",
    "\n",
    "# Adding the parent directory to the path to enable importing\n",
    "root_dir = os.path.dirname(os.path.abspath(\"../\"))\n",
    "if root_dir not in sys.path:\n",
    "    sys.path.append(root_dir)\n",
    "\n",
    "import DDQN.DDQN as ddqn\n",
    "from DDQN.DQN import TargetDQNAgent, DoubleDQNAgent\n",
    "from DDQN.DDQN import DuelingDQNAgent, DoubleDuelingDQNAgent\n",
    "from DDQN.evaluation import compare_agents, display_stats\n",
    "import hockey.hockey_env as h_env\n",
    "\n",
    "reload(h_env)\n",
    "reload(ddqn)"
   ]
  },
  {
   "cell_type": "code",
   "execution_count": 6,
   "metadata": {},
   "outputs": [],
   "source": [
    "def running_mean(x, N):\n",
    "    cumsum = np.cumsum(np.insert(x, 0, 0)) \n",
    "    return (cumsum[N:] - cumsum[:-N]) / float(N)"
   ]
  },
  {
   "cell_type": "markdown",
   "metadata": {},
   "source": [
    "## Environment & Agent Initialization"
   ]
  },
  {
   "cell_type": "code",
   "execution_count": 7,
   "metadata": {},
   "outputs": [
    {
     "data": {
      "text/plain": [
       "(array([-3.        ,  0.        ,  0.        ,  0.        ,  0.        ,\n",
       "         0.        ,  3.        ,  0.        ,  0.        ,  0.        ,\n",
       "         0.        ,  0.        ,  1.66536093, -0.30052638,  0.        ,\n",
       "         0.        ,  0.        ,  0.        ]),\n",
       " {'winner': 0,\n",
       "  'reward_closeness_to_puck': 0.0,\n",
       "  'reward_touch_puck': 0.0,\n",
       "  'reward_puck_direction': 0.0})"
      ]
     },
     "execution_count": 7,
     "metadata": {},
     "output_type": "execute_result"
    }
   ],
   "source": [
    "env = h_env.HockeyEnv(mode=h_env.Mode.NORMAL)\n",
    "env.reset()"
   ]
  },
  {
   "cell_type": "code",
   "execution_count": 9,
   "metadata": {},
   "outputs": [],
   "source": [
    "STATE_PATH = \"../models/hockey_double-ddqn_dev/\""
   ]
  },
  {
   "cell_type": "code",
   "execution_count": null,
   "metadata": {},
   "outputs": [],
   "source": [
    "agent_player = DoubleDuelingDQNAgent(\n",
    "    env.observation_space,\n",
    "    env.discrete_action_space,\n",
    "    hidden_sizes=[512],\n",
    "    hidden_sizes_A=[512, 512],\n",
    "    hidden_sizes_V=[512, 512],\n",
    "    use_torch=False\n",
    ")"
   ]
  },
  {
   "cell_type": "code",
   "execution_count": 13,
   "metadata": {},
   "outputs": [],
   "source": [
    "agent_player = DoubleDQNAgent(\n",
    "    env.observation_space,\n",
    "    env.discrete_action_space,\n",
    "    hidden_sizes=[2048],\n",
    "    use_torch=False\n",
    ")"
   ]
  },
  {
   "cell_type": "code",
   "execution_count": 14,
   "metadata": {},
   "outputs": [],
   "source": [
    "agent_player.load_state(STATE_PATH)\n",
    "\n",
    "agent_opp_weak = h_env.BasicOpponent(weak=True)\n",
    "agent_opp_strong = h_env.BasicOpponent(weak=False)"
   ]
  },
  {
   "cell_type": "markdown",
   "metadata": {},
   "source": [
    "## Evaluation"
   ]
  },
  {
   "cell_type": "markdown",
   "metadata": {},
   "source": [
    "### Winning Rates Against Opponents & Match Statistics"
   ]
  },
  {
   "cell_type": "code",
   "execution_count": 15,
   "metadata": {},
   "outputs": [
    {
     "data": {
      "application/vnd.jupyter.widget-view+json": {
       "model_id": "6fba033ee4f14bceb0cdd7c2d679ffba",
       "version_major": 2,
       "version_minor": 0
      },
      "text/plain": [
       "  0%|          | 0/1000 [00:00<?, ?it/s]"
      ]
     },
     "metadata": {},
     "output_type": "display_data"
    },
    {
     "data": {
      "application/vnd.jupyter.widget-view+json": {
       "model_id": "2c6fbfbc923f44fa8570f5bb4459a21d",
       "version_major": 2,
       "version_minor": 0
      },
      "text/plain": [
       "  0%|          | 0/1000 [00:00<?, ?it/s]"
      ]
     },
     "metadata": {},
     "output_type": "display_data"
    }
   ],
   "source": [
    "weak_opp_stats = compare_agents(\n",
    "    agent_player, agent_opp_weak, env, num_matches=1000, tqdm=tqdm\n",
    ")\n",
    "strong_opp_stats = compare_agents(\n",
    "    agent_player, agent_opp_strong, env, num_matches=1000, tqdm=tqdm\n",
    ")"
   ]
  },
  {
   "cell_type": "code",
   "execution_count": 16,
   "metadata": {},
   "outputs": [
    {
     "name": "stdout",
     "output_type": "stream",
     "text": [
      "########################################\n",
      "Stats Against Weak Opponent:\n",
      "Player Observation Mean:\n",
      "  x pos player one: -2.2381921145177914\n",
      "  y pos player one: -0.19128954220907346\n",
      "  angle player one: 0.13489801164515505\n",
      "  x vel player one: 0.32978815184664423\n",
      "  y vel player one: -0.08841922112580122\n",
      "  angular vel player one: -0.009208121375889033\n",
      "  x player two: 2.4818190776624864\n",
      "  y player two: 4.973219457139018e-05\n",
      "  angle player two: -0.003300755921293253\n",
      "  y vel player two: -0.002549235534172623\n",
      "  y vel player two: -0.012836448530238867\n",
      "  angular vel player two: -0.002419259718056065\n",
      "  x pos puck: -0.19984195619656267\n",
      "  y pos puck: -0.04498851492609093\n",
      "  x vel puck: -0.7174554667704407\n",
      "  y vel puck: 0.023864151971035353\n",
      "  left player puck keep time: 0.8702209259116437\n",
      "  right player puck keep time: 0.7280879496869457\n",
      "\n",
      "Relative Std. Change in Agent Observations:\n",
      "  x pos player one: -0.17624128891833704\n",
      "  y pos player one: 0.5261466659488759\n",
      "  angle player one: 0.7747395161671874\n",
      "  x vel player one: -0.10609015726387475\n",
      "  y vel player one: 0.5329449479798765\n",
      "  angular vel player one: 0.8733849273738035\n",
      "  x player two: 0.1498342989476311\n",
      "  y player two: -1.110357632077165\n",
      "  angle player two: -3.439305034709043\n",
      "  y vel player two: 0.09591456588521592\n",
      "  y vel player two: -1.1410752237338266\n",
      "  angular vel player two: -6.897953847503465\n",
      "  x pos puck: 0.0\n",
      "  y pos puck: 0.0\n",
      "  x vel puck: 0.0\n",
      "  y vel puck: 0.0\n",
      "  left player puck keep time: 0.03783184196222398\n",
      "  right player puck keep time: -0.03931936600290055\n",
      "\n",
      "Player Win Rate:\n",
      "0.147\n",
      "\n",
      "Win Status (1 for win, 0 for draw, -1 for loss):\n",
      "  Mean: -0.447\n",
      "  Std: 0.7356568493530119\n",
      "\n",
      "Returns:\n",
      "  Player: -9958.770811969485\n",
      "  Opponent: 513.2262616804725\n",
      "  Difference: 10471.997073649958\n",
      "\n",
      "########################################\n",
      "Stats Against Strong Opponent:\n",
      "Player Observation Mean:\n",
      "  x pos player one: -2.444506276353942\n",
      "  y pos player one: 0.15899920159712208\n",
      "  angle player one: 0.17694850492735195\n",
      "  x vel player one: 0.25079483945442105\n",
      "  y vel player one: 0.09646182672751427\n",
      "  angular vel player one: 0.011745555587129836\n",
      "  x player two: 2.4602907533994784\n",
      "  y player two: -0.018126473000698425\n",
      "  angle player two: 0.000237360221028066\n",
      "  y vel player two: 0.027490696724766086\n",
      "  y vel player two: -0.011031001914274979\n",
      "  angular vel player two: 0.01149588578734177\n",
      "  x pos puck: -0.29096270650467293\n",
      "  y pos puck: -0.044068975429975524\n",
      "  x vel puck: -0.442646458657906\n",
      "  y vel puck: 0.027503232142557888\n",
      "  left player puck keep time: 0.7681684097613302\n",
      "  right player puck keep time: 0.9164655403593457\n",
      "\n",
      "Relative Std. Change in Agent Observations:\n",
      "  x pos player one: -0.29910290377642745\n",
      "  y pos player one: 0.40322940396851226\n",
      "  angle player one: -0.024228529287856727\n",
      "  x vel player one: -0.235953194332361\n",
      "  y vel player one: -0.5168394604198718\n",
      "  angular vel player one: 0.36562852425882625\n",
      "  x player two: 0.23023803803913473\n",
      "  y player two: -0.6756857771645914\n",
      "  angle player two: 0.023655393884314816\n",
      "  y vel player two: 0.1909078720896211\n",
      "  y vel player two: 0.3407344507485367\n",
      "  angular vel player two: -0.5763634372614892\n",
      "  x pos puck: 0.0\n",
      "  y pos puck: 0.0\n",
      "  x vel puck: 0.0\n",
      "  y vel puck: 0.0\n",
      "  left player puck keep time: -0.13261936828219678\n",
      "  right player puck keep time: 0.11709085328757518\n",
      "\n",
      "Player Win Rate:\n",
      "0.217\n",
      "\n",
      "Win Status (1 for win, 0 for draw, -1 for loss):\n",
      "  Mean: -0.244\n",
      "  Std: 0.7864248215818216\n",
      "\n",
      "Returns:\n",
      "  Player: -9166.930161424847\n",
      "  Opponent: -1538.0062739141474\n",
      "  Difference: 7628.923887510699\n"
     ]
    }
   ],
   "source": [
    "print(\"#\" * 40)\n",
    "print(\"Stats Against Weak Opponent:\")\n",
    "display_stats(weak_opp_stats)\n",
    "\n",
    "print()\n",
    "print(\"#\" * 40)\n",
    "print(\"Stats Against Strong Opponent:\")\n",
    "display_stats(strong_opp_stats)"
   ]
  },
  {
   "cell_type": "markdown",
   "metadata": {},
   "source": [
    "### Rendered Demonstration Against Strong Opponent"
   ]
  },
  {
   "cell_type": "code",
   "execution_count": 17,
   "metadata": {},
   "outputs": [
    {
     "name": "stdout",
     "output_type": "stream",
     "text": [
      "Episode done in 109 steps\n",
      "Winner: Player\n"
     ]
    }
   ],
   "source": [
    "obs_buffer = []\n",
    "reward_buffer = []\n",
    "obs, _ = env.reset()\n",
    "obs_opp = env.obs_agent_two()\n",
    "\n",
    "done = False\n",
    "trunc = False\n",
    "step = 0\n",
    "while not (done or trunc):\n",
    "    step += 1\n",
    "    env.render()\n",
    "\n",
    "    a1_discr = agent_player.act(obs)\n",
    "    a1 = env.discrete_to_continous_action(a1_discr)\n",
    "    a2 = agent_opp_strong.act(obs_opp)\n",
    "\n",
    "    obs, r, done, trunc, info = env.step(np.hstack([a1, a2]))\n",
    "    obs_buffer.append(obs)\n",
    "    reward_buffer.append(r)\n",
    "\n",
    "    obs_opp = env.obs_agent_two()\n",
    "\n",
    "    if done or trunc:\n",
    "        print(f\"Episode done in {step} steps\")\n",
    "        winner = info[\"winner\"]\n",
    "        if winner == 0:\n",
    "            print(\"Draw\")\n",
    "        else:\n",
    "            print(f\"Winner: \" + (\"Player\" if winner == 1 else \"Opponent\"))\n",
    "        break"
   ]
  },
  {
   "cell_type": "code",
   "execution_count": 18,
   "metadata": {},
   "outputs": [],
   "source": [
    "env.close()"
   ]
  }
 ],
 "metadata": {
  "kernelspec": {
   "display_name": "rl",
   "language": "python",
   "name": "python3"
  },
  "language_info": {
   "codemirror_mode": {
    "name": "ipython",
    "version": 3
   },
   "file_extension": ".py",
   "mimetype": "text/x-python",
   "name": "python",
   "nbconvert_exporter": "python",
   "pygments_lexer": "ipython3",
   "version": "3.11.11"
  }
 },
 "nbformat": 4,
 "nbformat_minor": 2
}
